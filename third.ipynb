{
 "cells": [
  {
   "cell_type": "code",
   "execution_count": 1,
   "metadata": {},
   "outputs": [
    {
     "name": "stdout",
     "output_type": "stream",
     "text": [
      "['In', 'Out', 'PyTestClass', '_', '__', '___', '__builtin__', '__builtins__', '__doc__', '__loader__', '__name__', '__package__', '__spec__', '_dh', '_i', '_i1', '_ih', '_ii', '_iii', '_oh', 'exit', 'get_ipython', 'quit']\n",
      "<class 'type'>\n"
     ]
    }
   ],
   "source": [
    "# 마찬가지로 Java나 다른 언어의 중괄호 표기를 ':' 이 대체하고 있다.\n",
    "class PyTestClass:\n",
    "    \"\"\"It's for Test Class\"\"\"\n",
    "    pass\n",
    "\n",
    "# dir() 사용할 수 있는 모듈(라이브러리)을 보여준다.\n",
    "print(dir())\n",
    "# type은 당연히 class\n",
    "print(type(PyTestClass))"
   ]
  },
  {
   "cell_type": "code",
   "execution_count": 2,
   "metadata": {},
   "outputs": [
    {
     "name": "stdout",
     "output_type": "stream",
     "text": [
      "My name is Default Name\n",
      "#####################\n",
      "My name is My name is Python3\n",
      "My name is My name is Python3\n"
     ]
    }
   ],
   "source": [
    "# 자바에서는 매서드만 따로 빠져있는 경우가 없었음\n",
    "# 외부에 def A()만 딸랑 있는 경우\n",
    "# 동일하게 매서드라고 생각하면 된다.\n",
    "# 매서드는 호출해야 하듯이 마찬가지로 호출을 해줘야 동작이 된다.\n",
    "# def plus(a, b):\n",
    "#     return a + b\n",
    "\n",
    "class Person:\n",
    "    Name = \"Default Name\"\n",
    "    \n",
    "    # public void Print(void):\n",
    "    #    self == this -> True\n",
    "    def Print(self):\n",
    "        print(\"My name is {0}\".format(self.Name))\n",
    "\n",
    "# Person p1 = new Person()\n",
    "p1 = Person()\n",
    "p1.Print()\n",
    "print('#####################')\n",
    "\n",
    "# 현재는 전부 public이므로 외부에서 마음대로 참조 및 변경이 가능\n",
    "p1.Name = \"My name is Python3\"\n",
    "p1.Print()\n",
    "# 직접 클래스에 있는 Print를 호출한다는 방식으로도 사용이 가능하다.\n",
    "# 이것은 순수한 인터프리터 언어라 가능한 것임\n",
    "Person.Print(p1)"
   ]
  },
  {
   "cell_type": "code",
   "execution_count": 3,
   "metadata": {},
   "outputs": [
    {
     "name": "stdout",
     "output_type": "stream",
     "text": [
      "p1.name = Python3\n",
      "p2.name = Default Name\n"
     ]
    }
   ],
   "source": [
    "class Person:\n",
    "    Name = \"Default Name\"\n",
    "\n",
    "    def Print(self):\n",
    "        print(\"My name is {0}\".format(self.Name))\n",
    "        \n",
    "p1 = Person()\n",
    "p1.Name = \"Python3\"\n",
    "\n",
    "p2 = Person()\n",
    "\n",
    "# 클래스 구조는 같아도 객체가 서로 다르므로\n",
    "# 내부에 설정하는 값은 다르다.\n",
    "print(\"p1.name =\", p1.Name)\n",
    "print(\"p2.name =\", p2.Name)"
   ]
  },
  {
   "cell_type": "code",
   "execution_count": 5,
   "metadata": {},
   "outputs": [
    {
     "name": "stdout",
     "output_type": "stream",
     "text": [
      "p1.title = Python3 Test\n",
      "p2.title = Python3 Test\n",
      "Person.title = Python3 Test\n",
      "p1.age = 20\n"
     ]
    }
   ],
   "source": [
    "# 클래스 내부 변수를 \n",
    "# 아래와 같이 언제든지 마음대로 추가할 수 있다.\n",
    "Person.title = \"Python3 Test\"\n",
    "print(\"p1.title =\", p1.title)\n",
    "print(\"p2.title =\", p2.title)\n",
    "print(\"Person.title =\", Person.title)\n",
    "\n",
    "p1.age = 20\n",
    "print(\"p1.age =\", p1.age)"
   ]
  },
  {
   "cell_type": "code",
   "execution_count": 9,
   "metadata": {},
   "outputs": [
    {
     "name": "stdout",
     "output_type": "stream",
     "text": [
      "Test Message\n",
      "Not Class Member\n"
     ]
    }
   ],
   "source": [
    "# str1이 전역으로 생성되어 있음\n",
    "str1 = \"Not Class Member\"\n",
    "\n",
    "class NonSelfTest:\n",
    "    str1 = \"\"\n",
    "    \n",
    "    def Set(self, msg):\n",
    "        self.str1 = msg\n",
    "        \n",
    "    def Print(self):\n",
    "        print(self.str1)\n",
    "        print(str1)\n",
    "\n",
    "# 객체를 생성        \n",
    "test = NonSelfTest()\n",
    "# Setter를 활용해서 \"Test Message\"를 설정\n",
    "test.Set(\"Test Message\")\n",
    "# 결과를 출력해서 \"Test Message\"를 보고 싶었으나\n",
    "# 출력된 것은 전역 변수인 \"Not Class Member\"가 출력됨\n",
    "# self를 명시하지 않고 이름이 같은게 있다면 전역변수에 접근하게 된다.\n",
    "test.Print()"
   ]
  },
  {
   "cell_type": "code",
   "execution_count": 11,
   "metadata": {},
   "outputs": [
    {
     "name": "stdout",
     "output_type": "stream",
     "text": [
      "Default\n",
      "Default\n",
      "###################\n",
      "Change\n",
      "Change\n",
      "###################\n",
      "Change\n",
      "Only this\n"
     ]
    }
   ],
   "source": [
    "class ClassTest:\n",
    "    data = \"Default\"\n",
    "    \n",
    "ct1 = ClassTest()\n",
    "ct2 = ClassTest()\n",
    "\n",
    "print(ct1.data)\n",
    "print(ct2.data)\n",
    "\n",
    "# __class__.data로 지정하면\n",
    "# 해당 객체의 클래스 타입을 파악하여\n",
    "# 해당 클래스에 대한 모든 객체의 값을 변경한다.\n",
    "ct1.__class__.data = \"Change\"\n",
    "print('###################')\n",
    "print(ct1.data)\n",
    "print(ct2.data)\n",
    "\n",
    "# __class__가 없으면 대상 객체만 변경된다.\n",
    "ct2.data = \"Only this\"\n",
    "print('###################')\n",
    "print(ct1.data)\n",
    "print(ct2.data)"
   ]
  },
  {
   "cell_type": "code",
   "execution_count": 14,
   "metadata": {},
   "outputs": [
    {
     "name": "stdout",
     "output_type": "stream",
     "text": [
      "x^2의 0 ~ 3까지 정적분 결과 = 8.999955000049939\n"
     ]
    }
   ],
   "source": [
    "# 조급할 필요 없음\n",
    "# 어차피 전세계의 모든 사람은 수학을 싫어한다.\n",
    "# 이과 나와도 똑같다.\n",
    "# 누가 오래 비비냐 승부\n",
    "# 실제 적분은 limit dx -> 0 \n",
    "dx = 0.00001\n",
    "\n",
    "def integralRange(start, end):\n",
    "    loopNum = (int)((end - start) / dx + 1)\n",
    "    area = 0\n",
    "    # 0 ~ loopNum - 2\n",
    "    for i in range(loopNum - 1):\n",
    "        curX = dx * i               # current X\n",
    "        area += dx * (curX ** 2)\n",
    "        \n",
    "    return area;\n",
    "\n",
    "area = integralRange(0, 3)\n",
    "print(\"x^2의 0 ~ 3까지 정적분 결과 =\", area)"
   ]
  },
  {
   "cell_type": "code",
   "execution_count": 16,
   "metadata": {},
   "outputs": [
    {
     "name": "stdout",
     "output_type": "stream",
     "text": [
      "v is Instance of Vehicle: True\n",
      "a is IoV: True\n",
      "v is Instance of Airplane: False\n",
      "v is Instance of Object: True\n",
      "v is Instance of Fish: False\n",
      "int is Instance of Object: True\n"
     ]
    }
   ],
   "source": [
    "class Vehicle:\n",
    "    pass\n",
    "\n",
    "class Fish:\n",
    "    pass\n",
    "\n",
    "# 파이썬에서 상속은 아래와 같이 한다.\n",
    "# Airplane(Vehicle) <<< Airplane은 Vehicle을 상속 받았음을 의미한다.\n",
    "class Airplane(Vehicle):\n",
    "    pass\n",
    "\n",
    "v, a = Vehicle(), Airplane()\n",
    "\n",
    "# 자식은 부모에 대한 인스턴스가 될 수 있다.\n",
    "print(\"v is Instance of Vehicle:\", isinstance(v, Vehicle))\n",
    "print(\"a is IoV:\", isinstance(a, Vehicle))\n",
    "print(\"v is Instance of Airplane:\", isinstance(v, Airplane))\n",
    "print(\"v is Instance of Object:\", isinstance(v, object))\n",
    "print(\"v is Instance of Fish:\", isinstance(v, Fish))\n",
    "print(\"int is Instance of Object:\", isinstance(int, object))"
   ]
  },
  {
   "cell_type": "code",
   "execution_count": 18,
   "metadata": {},
   "outputs": [
    {
     "name": "stdout",
     "output_type": "stream",
     "text": [
      "Vehicles Class Constructor! Value = 333\n",
      "정말?\n",
      "Vehicles Class Destructor!\n",
      "레알?\n"
     ]
    }
   ],
   "source": [
    "class Vehicles:\n",
    "    # __init__ 이 키워드가 붙어있으면 Constructor(생성자)\n",
    "    # init: 초기화\n",
    "    def __init__(self, value):\n",
    "        self.Value = value\n",
    "        print(\"Vehicles Class Constructor! Value =\", value)\n",
    "        \n",
    "    # __del__ 이 키워드가 붙으면 Destructor(소멸자)\n",
    "    def __del__(self):\n",
    "        print(\"Vehicles Class Destructor!\")\n",
    "        \n",
    "def test():\n",
    "    # t라는 객체는 test 함수 내에서만 살아있는 지역변수(Stack)\n",
    "    t = Vehicles(333)\n",
    "    # 그러므로 test 함수가 끝나면 소멸자가 호출된다.\n",
    "    print(\"정말?\")\n",
    "    \n",
    "test()\n",
    "print(\"레알?\")"
   ]
  },
  {
   "cell_type": "code",
   "execution_count": 40,
   "metadata": {},
   "outputs": [
    {
     "name": "stdout",
     "output_type": "stream",
     "text": [
      "Instance cnt: 3\n",
      "Instance cnt: 3\n"
     ]
    },
    {
     "ename": "TypeError",
     "evalue": "classPrintCnt() missing 1 required positional argument: 'cls'",
     "output_type": "error",
     "traceback": [
      "\u001b[1;31m---------------------------------------------------------------------------\u001b[0m",
      "\u001b[1;31mTypeError\u001b[0m                                 Traceback (most recent call last)",
      "\u001b[1;32m<ipython-input-40-95cb75fa387b>\u001b[0m in \u001b[0;36m<module>\u001b[1;34m\u001b[0m\n\u001b[0;32m     33\u001b[0m \u001b[1;33m\u001b[0m\u001b[0m\n\u001b[0;32m     34\u001b[0m \u001b[1;31m# 파라미터(인자) 표기가 없어도 알아서 디폴트로 클래스 자신이 셋팅됨\u001b[0m\u001b[1;33m\u001b[0m\u001b[1;33m\u001b[0m\u001b[1;33m\u001b[0m\u001b[0m\n\u001b[1;32m---> 35\u001b[1;33m \u001b[0mCntManager\u001b[0m\u001b[1;33m.\u001b[0m\u001b[0mclassPrintCnt\u001b[0m\u001b[1;33m(\u001b[0m\u001b[1;33m)\u001b[0m\u001b[1;33m\u001b[0m\u001b[1;33m\u001b[0m\u001b[0m\n\u001b[0m\u001b[0;32m     36\u001b[0m \u001b[0mc\u001b[0m\u001b[1;33m.\u001b[0m\u001b[0mclassPrintCnt\u001b[0m\u001b[1;33m(\u001b[0m\u001b[1;33m)\u001b[0m\u001b[1;33m\u001b[0m\u001b[1;33m\u001b[0m\u001b[0m\n",
      "\u001b[1;31mTypeError\u001b[0m: classPrintCnt() missing 1 required positional argument: 'cls'"
     ]
    }
   ],
   "source": [
    "class CntManager:\n",
    "    cnt = 0\n",
    "\n",
    "    def __init__(self):\n",
    "        CntManager.cnt += 1\n",
    "        \n",
    "    # self를 사용하지 않고 클래스 자체의 cnt로 접근하라고 하고 있음\n",
    "    def staticPrintCnt():\n",
    "        print(\"Instance cnt:\", CntManager.cnt)\n",
    "        \n",
    "    # staticmethod - 언제든지 외부에서\n",
    "    # 쉽게 참조하여 호출할 수 있게 만들어줌\n",
    "    # 즉 클래스에 있는 staticPrintCnt 매서드를\n",
    "    # 조금 더 이름이 단순한 sPrintCnt로 대체\n",
    "    # 별칭\n",
    "    sPrintCnt = staticmethod(staticPrintCnt)\n",
    "        \n",
    "    # 결국 classmethod로 만든 classPrintCnt의 cls는\n",
    "    # self 와 동일한 역할을 수행하게 된다.\n",
    "    def classPrintCnt(cls):\n",
    "        print(\"Instance cnt:\", cls.cnt)\n",
    "        \n",
    "    # classmethod - 디폴트로 첫 번째 인자가 자신의 클래스 셋팅됨\n",
    "    # 별칭\n",
    "    cPrintCnt = classmethod(classPrintCnt)\n",
    "    \n",
    "# 결국 생성자를 통해\n",
    "# 모든 CntManager 기반의 객체들의 cnt 값을 증가시킴\n",
    "a, b, c = CntManager(), CntManager(), CntManager()\n",
    "\n",
    "CntManager.sPrintCnt()\n",
    "b.sPrintCnt()\n",
    "\n",
    "# 파라미터(인자) 표기가 없어도 알아서 디폴트로 클래스 자신이 셋팅됨\n",
    "CntManager.classPrintCnt()\n",
    "c.classPrintCnt()"
   ]
  },
  {
   "cell_type": "code",
   "execution_count": 32,
   "metadata": {},
   "outputs": [
    {
     "name": "stdout",
     "output_type": "stream",
     "text": [
      "{'name': 'Maron', 'phoneNum': '045-667-1853'}\n",
      "{'name': 'Lunar', 'phoneNum': '406-708-3821', 'subject': 'Electronic Engineering', 'studentId': '7383492'}\n"
     ]
    }
   ],
   "source": [
    "# 자식이 부모 클래스를 상속 받을때 생성자를 어떻게 처리해야 하는가 ?\n",
    "class Person:\n",
    "    # Person의 생성자\n",
    "    def __init__(self, name, phoneNum):\n",
    "        self.name = name\n",
    "        self.phoneNum = phoneNum\n",
    "        \n",
    "    #def printInfo(self):\n",
    "    #    print(\"Info(name: {0}, Phone Num: {1})\".format(self.name, self.phoneNum))\n",
    "        \n",
    "    #def printPersonData(self):\n",
    "    #    print(\"Person(name: {0}, Phone Num: {1})\".format(self.name, self.phoneNum))\n",
    "        \n",
    "class Student(Person):\n",
    "    # Student의 생성자\n",
    "    # 자바와는 다르게 생성자 내부에서\n",
    "    # 부모 클래스에 대한 부분을 처리해줘야 한다.\n",
    "    def __init__(self, name, phoneNum, subject, studentId):\n",
    "        self.name = name\n",
    "        self.phoneNum = phoneNum\n",
    "        self.subject = subject\n",
    "        self.studentId = studentId\n",
    "        \n",
    "p = Person(\"Maron\", \"045-667-1853\")\n",
    "s = Student(\"Lunar\", \"406-708-3821\", \"Electronic Engineering\", \"7383492\")\n",
    "\n",
    "# 생성된 객체를 __dict__ 통해서 살펴보면\n",
    "# 내부의 정보들을 획득할 수 있다.\n",
    "print(p.__dict__)\n",
    "print(s.__dict__)"
   ]
  },
  {
   "cell_type": "code",
   "execution_count": 33,
   "metadata": {},
   "outputs": [
    {
     "name": "stdout",
     "output_type": "stream",
     "text": [
      "<__main__.Person object at 0x0000020644BD9B48>\n"
     ]
    }
   ],
   "source": [
    "print(p)"
   ]
  },
  {
   "cell_type": "code",
   "execution_count": 37,
   "metadata": {},
   "outputs": [
    {
     "name": "stdout",
     "output_type": "stream",
     "text": [
      "28.274333882308138\n",
      "18.84955592153876\n",
      "153.93804002589985\n",
      "43.982297150257104\n"
     ]
    }
   ],
   "source": [
    "import math\n",
    "\n",
    "class Circle(object):\n",
    "    def __init__(self, r):\n",
    "        self.r = r\n",
    "        \n",
    "    def setter(self, r):\n",
    "        self.r = r\n",
    "        \n",
    "    # pi * r^2 (원의 넓이)\n",
    "    @property\n",
    "    def area(self):\n",
    "        return math.pi * self.r ** 2\n",
    "    \n",
    "    # 2 * pi * r (원의 둘레)\n",
    "    @property\n",
    "    def circumference(self):\n",
    "        return 2 * math.pi * self.r\n",
    "    \n",
    "c = Circle(3.0)\n",
    "print(c.area)\n",
    "print(c.circumference)\n",
    "\n",
    "c.setter(7.0)\n",
    "print(c.area)\n",
    "print(c.circumference)"
   ]
  },
  {
   "cell_type": "code",
   "execution_count": 45,
   "metadata": {},
   "outputs": [
    {
     "name": "stdout",
     "output_type": "stream",
     "text": [
      "3\n",
      "Python\n",
      "Class\n"
     ]
    }
   ],
   "source": [
    "class DummyClass:\n",
    "    def __init__(self):\n",
    "        self.var1 = 3\n",
    "        self._var2 = 'Python'\n",
    "        self.__var3 = 'Class'\n",
    "        \n",
    "dp = DummyClass()\n",
    "\n",
    "# 노 언더바 - public\n",
    "print(dp.var1)\n",
    "# 언더바 1개 - protected\n",
    "print(dp._var2)\n",
    "# 언더바 2개 - private\n",
    "#print(dp.__var3)\n",
    "print(dp._DummyClass__var3)"
   ]
  },
  {
   "cell_type": "code",
   "execution_count": 48,
   "metadata": {},
   "outputs": [
    {
     "name": "stdout",
     "output_type": "stream",
     "text": [
      "{'name': 'Timber Wolf', 'height': 140, 'weight': 75, 'feed': 'Meat', 'sound': 'Howl'}\n",
      "Timber Wolf: Howl\n"
     ]
    }
   ],
   "source": [
    "class Animal:\n",
    "    def __init__(self, name, height, weight):\n",
    "        self.name = name\n",
    "        self.height = height\n",
    "        self.weight = weight\n",
    "        \n",
    "    def info(self):\n",
    "        print(\"name:\", str(self.name))\n",
    "        print(\"height:\", str(self.height))\n",
    "        print(\"weight:\", str(self.weight))\n",
    "        \n",
    "class Carnivore(Animal):\n",
    "    def __init__(self, name, height, weight, feed, sound):\n",
    "        # Animal에 있는 생성자를 호출해줘 ~\n",
    "        # 하고 강제 요청을 한 것\n",
    "        # super와 동일하다.\n",
    "        Animal.__init__(self, name, height, weight)\n",
    "        self.feed = feed\n",
    "        self.sound = sound\n",
    "        \n",
    "    def sounds(self):\n",
    "        print(str(self.name) + \": \" + str(self.sound))\n",
    "        \n",
    "wolf = Carnivore(\"Timber Wolf\", 140, 75, \"Meat\", \"Howl\")\n",
    "\n",
    "print(wolf.__dict__)\n",
    "wolf.sounds()"
   ]
  },
  {
   "cell_type": "code",
   "execution_count": 49,
   "metadata": {},
   "outputs": [
    {
     "name": "stdout",
     "output_type": "stream",
     "text": [
      "I'm a Sub Class: [3]\n",
      "I'm Super Class\n"
     ]
    }
   ],
   "source": [
    "class Parent(object):\n",
    "    def __init__(self, num):\n",
    "        self.num = num\n",
    "        \n",
    "    def printMsg(self):\n",
    "        print(\"I'm Super Class\")\n",
    "        \n",
    "class Child(Parent):\n",
    "    def __init__(self, num):\n",
    "        # super(Child, self) 라는 것이\n",
    "        # Child의 super Class를 불러오라는 의미\n",
    "        # Super Class를 불러와서 그것의 __init__ 이므로\n",
    "        # 결국 Super Class의 생성자를 호출하는것과 같다.\n",
    "        super(Child, self).__init__(num)\n",
    "        \n",
    "    def printMsg(self):\n",
    "        print(\"I'm a Sub Class: [%s]\" % str(self.num))\n",
    "        super(Child, self).printMsg()\n",
    "        \n",
    "c = Child(3)\n",
    "c.printMsg()"
   ]
  },
  {
   "cell_type": "code",
   "execution_count": 56,
   "metadata": {},
   "outputs": [
    {
     "name": "stdout",
     "output_type": "stream",
     "text": [
      "__init__ is called\n",
      "__init__ is called\n",
      "__add__ is called\n",
      "__init__ is called\n",
      "__repr__ is called\n",
      "32\n",
      "__sub__ is called\n",
      "__init__ is called\n",
      "__repr__ is called\n",
      "-12\n"
     ]
    }
   ],
   "source": [
    "class OpOverloadEx(object):\n",
    "    def __init__(self, num):\n",
    "        print(\"__init__ is called\")\n",
    "        self.num = num\n",
    "        \n",
    "    # 파이썬에서 Java의 toString 역할을 해준다.\n",
    "    def __repr__(self):\n",
    "        print(\"__repr__ is called\")\n",
    "        return str(self.num)\n",
    "    \n",
    "    # 덧셈에 대한 연산자 오버로딩\n",
    "    # obj1 + obj2 == obj1.__add__(obj2) -> True\n",
    "    def __add__(self, other):\n",
    "        print(\"__add__ is called\")\n",
    "        return OpOverloadEx(self.num + other.getNum())\n",
    "    \n",
    "    # 뺄셈에 대한 연산자 오버로딩\n",
    "    def __sub__(self, other):\n",
    "        print(\"__sub__ is called\")\n",
    "        return OpOverloadEx(self.num - other.getNum())\n",
    "    \n",
    "    def getNum(self):\n",
    "        return self.num\n",
    "    \n",
    "obj1 = OpOverloadEx(10)\n",
    "obj2 = OpOverloadEx(22)\n",
    "\n",
    "# Java에서 toString 같은것이 지정이 안되어 있으면\n",
    "# 여기서는 실제 obj1, obj2 객체의 주소값이 나왔었다.\n",
    "#print(obj1)   # 10\n",
    "#print(obj2)   # 22\n",
    "\n",
    "# \n",
    "print(obj1 + obj2)\n",
    "print(obj1 - obj2)"
   ]
  },
  {
   "cell_type": "code",
   "execution_count": 100,
   "metadata": {
    "scrolled": false
   },
   "outputs": [
    {
     "name": "stdout",
     "output_type": "stream",
     "text": [
      "__repr__ self.imag = 6j\n",
      "5 + 6j\n",
      "__repr__ self.imag = -2j\n",
      "1 + -2j\n"
     ]
    }
   ],
   "source": [
    "class CustomComplex(complex):\n",
    "    def __lt__(self, other):\n",
    "        print(\"__lt__ self =\", self)\n",
    "        print(\"__lt__ other =\", other)\n",
    "        return self < other\n",
    "    \n",
    "class Complex(object):\n",
    "    # 생성자\n",
    "    def __init__(self, real, imag):\n",
    "        self.real = real\n",
    "        self.imag = imag\n",
    "    \n",
    "    # toString\n",
    "    def __repr__(self):\n",
    "        print(\"__repr__ self.imag =\", self.imag)\n",
    "        #print((CustomComplex)(self.imag) < 0j)\n",
    "        #if((CustomComplex)(self.imag) < 0j):\n",
    "        #    return str(self.real) + \" - \" + str(abs(self.imag))\n",
    "        #else:\n",
    "        #    return str(self.real) + \" + \" + str(self.imag)\n",
    "        return str(self.real) + \" + \" + str(self.imag)\n",
    "    \n",
    "    # 덧셈 연산자 오버로딩\n",
    "    def __add__(self, other):\n",
    "        return Complex(self.real + other.real, self.imag + other.imag)\n",
    "    \n",
    "    # 뺄셈 연산자 오버로딩\n",
    "    def __sub__(self, other):\n",
    "        return Complex(self.real - other.real, self.imag - other.imag)\n",
    "\n",
    "z1 = Complex(3, 2j)\n",
    "z2 = Complex(2, 4j)\n",
    "\n",
    "#print(z1)\n",
    "#print(z2)\n",
    "\n",
    "print(z1 + z2)\n",
    "print(z1 - z2)"
   ]
  },
  {
   "cell_type": "code",
   "execution_count": 102,
   "metadata": {},
   "outputs": [
    {
     "name": "stdout",
     "output_type": "stream",
     "text": [
      "0.8414709848078965\n"
     ]
    }
   ],
   "source": [
    "import numpy as np\n",
    "\n",
    "x = 1.0\n",
    "y = np.sin(x)\n",
    "\n",
    "print(y)"
   ]
  },
  {
   "cell_type": "code",
   "execution_count": 103,
   "metadata": {},
   "outputs": [
    {
     "name": "stdout",
     "output_type": "stream",
     "text": [
      "0.017453292519943295\n"
     ]
    }
   ],
   "source": [
    "import math\n",
    "\n",
    "print(math.pi / 180.0)"
   ]
  },
  {
   "cell_type": "code",
   "execution_count": 107,
   "metadata": {},
   "outputs": [
    {
     "name": "stdout",
     "output_type": "stream",
     "text": [
      "0.8414709848078965\n",
      "0.8414709848078965\n"
     ]
    }
   ],
   "source": [
    "import numpy\n",
    "import math\n",
    "\n",
    "x = 1.0\n",
    "\n",
    "print(numpy.sin(x))\n",
    "print(math.sin(x))"
   ]
  },
  {
   "cell_type": "code",
   "execution_count": 108,
   "metadata": {},
   "outputs": [
    {
     "name": "stdout",
     "output_type": "stream",
     "text": [
      "[0 1 2 3 4]\n",
      "5\n"
     ]
    }
   ],
   "source": [
    "# import numpy  ->      numpy 라이브러리를 사용하겠다.\n",
    "# import numpy as np -> numpy 라이브러리를 np라는 이름으로 사용하겠다.\n",
    "import numpy as np\n",
    "\n",
    "vec = np.array([0, 1, 2, 3, 4])\n",
    "length = len(vec)\n",
    "\n",
    "print(vec)\n",
    "print(length)"
   ]
  },
  {
   "cell_type": "code",
   "execution_count": 109,
   "metadata": {},
   "outputs": [
    {
     "name": "stdout",
     "output_type": "stream",
     "text": [
      "[[0 1 2]\n",
      " [3 4 5]\n",
      " [6 7 8]]\n",
      "(3, 3)\n"
     ]
    }
   ],
   "source": [
    "import numpy as np\n",
    "\n",
    "A = np.array([[0, 1, 2], [3, 4, 5], [6, 7, 8]])\n",
    "\n",
    "print(A)\n",
    "print(A.shape)"
   ]
  },
  {
   "cell_type": "code",
   "execution_count": 111,
   "metadata": {},
   "outputs": [
    {
     "name": "stdout",
     "output_type": "stream",
     "text": [
      "[0 1 2 3 4]\n",
      "[0 3 6 9]\n",
      "<class 'numpy.ndarray'>\n",
      "<class 'numpy.ndarray'>\n"
     ]
    }
   ],
   "source": [
    "import numpy as np\n",
    "\n",
    "series1 = np.arange(5)\n",
    "series2 = np.arange(0, 10, 3)\n",
    "\n",
    "print(series1)\n",
    "print(series2)\n",
    "\n",
    "print(type(series1))\n",
    "print(type(series2))"
   ]
  },
  {
   "cell_type": "code",
   "execution_count": 113,
   "metadata": {},
   "outputs": [
    {
     "name": "stdout",
     "output_type": "stream",
     "text": [
      "[[1. 1. 1.]\n",
      " [1. 1. 1.]\n",
      " [1. 1. 1.]]\n",
      "[[0. 0. 0.]\n",
      " [0. 0. 0.]\n",
      " [0. 0. 0.]]\n"
     ]
    }
   ],
   "source": [
    "import numpy as np\n",
    "\n",
    "one = np.ones((3, 3))\n",
    "zero = np.zeros((3, 3))\n",
    "\n",
    "print(one)\n",
    "print(zero)"
   ]
  },
  {
   "cell_type": "code",
   "execution_count": 115,
   "metadata": {},
   "outputs": [
    {
     "name": "stdout",
     "output_type": "stream",
     "text": [
      "[[ 5  7]\n",
      " [ 9 11]]\n",
      "[[-3 -3]\n",
      " [-3 -3]]\n"
     ]
    }
   ],
   "source": [
    "import numpy as np\n",
    "\n",
    "A = np.array([[1, 2], [3, 4]])\n",
    "B = np.array([[4, 5], [6, 7]])\n",
    "\n",
    "print(A + B)\n",
    "print(A - B)"
   ]
  },
  {
   "cell_type": "code",
   "execution_count": 116,
   "metadata": {},
   "outputs": [
    {
     "name": "stdout",
     "output_type": "stream",
     "text": [
      "1\n",
      "8\n",
      "4\n"
     ]
    }
   ],
   "source": [
    "import numpy as np\n",
    "\n",
    "# 이 배열은 수치해석용 배열\n",
    "A = np.array([1, 2, 3, 4, 5, 6, 7, 8])\n",
    "\n",
    "print(A[0])\n",
    "print(A[-1])\n",
    "print(A[3])"
   ]
  },
  {
   "cell_type": "code",
   "execution_count": 117,
   "metadata": {},
   "outputs": [
    {
     "name": "stdout",
     "output_type": "stream",
     "text": [
      "[1 2 3]\n",
      "[4 5 6]\n",
      "[7 8 9]\n"
     ]
    }
   ],
   "source": [
    "import numpy as np\n",
    "\n",
    "A = np.array([[1, 2, 3], [4, 5, 6], [7, 8, 9]])\n",
    "\n",
    "print(A[0])\n",
    "print(A[1])\n",
    "print(A[-1])"
   ]
  },
  {
   "cell_type": "code",
   "execution_count": 118,
   "metadata": {},
   "outputs": [
    {
     "name": "stdout",
     "output_type": "stream",
     "text": [
      "[1 4 7]\n",
      "[2 5 8]\n",
      "[3 6 9]\n"
     ]
    }
   ],
   "source": [
    "import numpy as np\n",
    "\n",
    "A = np.array([[1, 2, 3], [4, 5, 6], [7, 8, 9]])\n",
    "\n",
    "print(A[:, 0])   # 첫 번째 열\n",
    "print(A[:, 1])   # 두 번째 열\n",
    "print(A[:, -1])  # 마지막 열"
   ]
  },
  {
   "cell_type": "code",
   "execution_count": 133,
   "metadata": {},
   "outputs": [
    {
     "name": "stdout",
     "output_type": "stream",
     "text": [
      "[0.   0.01 0.02 0.03 0.04 0.05 0.06 0.07 0.08 0.09 0.1  0.11 0.12 0.13\n",
      " 0.14 0.15 0.16 0.17 0.18 0.19 0.2  0.21 0.22 0.23 0.24 0.25 0.26 0.27\n",
      " 0.28 0.29 0.3  0.31 0.32 0.33 0.34 0.35 0.36 0.37 0.38 0.39 0.4  0.41\n",
      " 0.42 0.43 0.44 0.45 0.46 0.47 0.48 0.49 0.5  0.51 0.52 0.53 0.54 0.55\n",
      " 0.56 0.57 0.58 0.59 0.6  0.61 0.62 0.63 0.64 0.65 0.66 0.67 0.68 0.69\n",
      " 0.7  0.71 0.72 0.73 0.74 0.75 0.76 0.77 0.78 0.79 0.8  0.81 0.82 0.83\n",
      " 0.84 0.85 0.86 0.87 0.88 0.89 0.9  0.91 0.92 0.93 0.94 0.95 0.96 0.97\n",
      " 0.98 0.99 1.   1.01 1.02 1.03 1.04 1.05 1.06 1.07 1.08 1.09 1.1  1.11\n",
      " 1.12 1.13 1.14 1.15 1.16 1.17 1.18 1.19 1.2  1.21 1.22 1.23 1.24 1.25\n",
      " 1.26 1.27 1.28 1.29 1.3  1.31 1.32 1.33 1.34 1.35 1.36 1.37 1.38 1.39\n",
      " 1.4  1.41 1.42 1.43 1.44 1.45 1.46 1.47 1.48 1.49 1.5  1.51 1.52 1.53\n",
      " 1.54 1.55 1.56 1.57 1.58 1.59 1.6  1.61 1.62 1.63 1.64 1.65 1.66 1.67\n",
      " 1.68 1.69 1.7  1.71 1.72 1.73 1.74 1.75 1.76 1.77 1.78 1.79 1.8  1.81\n",
      " 1.82 1.83 1.84 1.85 1.86 1.87 1.88 1.89 1.9  1.91 1.92 1.93 1.94 1.95\n",
      " 1.96 1.97 1.98 1.99 2.   2.01 2.02 2.03 2.04 2.05 2.06 2.07 2.08 2.09\n",
      " 2.1  2.11 2.12 2.13 2.14 2.15 2.16 2.17 2.18 2.19 2.2  2.21 2.22 2.23\n",
      " 2.24 2.25 2.26 2.27 2.28 2.29 2.3  2.31 2.32 2.33 2.34 2.35 2.36 2.37\n",
      " 2.38 2.39 2.4  2.41 2.42 2.43 2.44 2.45 2.46 2.47 2.48 2.49 2.5  2.51\n",
      " 2.52 2.53 2.54 2.55 2.56 2.57 2.58 2.59 2.6  2.61 2.62 2.63 2.64 2.65\n",
      " 2.66 2.67 2.68 2.69 2.7  2.71 2.72 2.73 2.74 2.75 2.76 2.77 2.78 2.79\n",
      " 2.8  2.81 2.82 2.83 2.84 2.85 2.86 2.87 2.88 2.89 2.9  2.91 2.92 2.93\n",
      " 2.94 2.95 2.96 2.97 2.98 2.99]\n",
      "\n",
      "\n",
      "[0.0000e+00 1.0000e-04 4.0000e-04 9.0000e-04 1.6000e-03 2.5000e-03\n",
      " 3.6000e-03 4.9000e-03 6.4000e-03 8.1000e-03 1.0000e-02 1.2100e-02\n",
      " 1.4400e-02 1.6900e-02 1.9600e-02 2.2500e-02 2.5600e-02 2.8900e-02\n",
      " 3.2400e-02 3.6100e-02 4.0000e-02 4.4100e-02 4.8400e-02 5.2900e-02\n",
      " 5.7600e-02 6.2500e-02 6.7600e-02 7.2900e-02 7.8400e-02 8.4100e-02\n",
      " 9.0000e-02 9.6100e-02 1.0240e-01 1.0890e-01 1.1560e-01 1.2250e-01\n",
      " 1.2960e-01 1.3690e-01 1.4440e-01 1.5210e-01 1.6000e-01 1.6810e-01\n",
      " 1.7640e-01 1.8490e-01 1.9360e-01 2.0250e-01 2.1160e-01 2.2090e-01\n",
      " 2.3040e-01 2.4010e-01 2.5000e-01 2.6010e-01 2.7040e-01 2.8090e-01\n",
      " 2.9160e-01 3.0250e-01 3.1360e-01 3.2490e-01 3.3640e-01 3.4810e-01\n",
      " 3.6000e-01 3.7210e-01 3.8440e-01 3.9690e-01 4.0960e-01 4.2250e-01\n",
      " 4.3560e-01 4.4890e-01 4.6240e-01 4.7610e-01 4.9000e-01 5.0410e-01\n",
      " 5.1840e-01 5.3290e-01 5.4760e-01 5.6250e-01 5.7760e-01 5.9290e-01\n",
      " 6.0840e-01 6.2410e-01 6.4000e-01 6.5610e-01 6.7240e-01 6.8890e-01\n",
      " 7.0560e-01 7.2250e-01 7.3960e-01 7.5690e-01 7.7440e-01 7.9210e-01\n",
      " 8.1000e-01 8.2810e-01 8.4640e-01 8.6490e-01 8.8360e-01 9.0250e-01\n",
      " 9.2160e-01 9.4090e-01 9.6040e-01 9.8010e-01 1.0000e+00 1.0201e+00\n",
      " 1.0404e+00 1.0609e+00 1.0816e+00 1.1025e+00 1.1236e+00 1.1449e+00\n",
      " 1.1664e+00 1.1881e+00 1.2100e+00 1.2321e+00 1.2544e+00 1.2769e+00\n",
      " 1.2996e+00 1.3225e+00 1.3456e+00 1.3689e+00 1.3924e+00 1.4161e+00\n",
      " 1.4400e+00 1.4641e+00 1.4884e+00 1.5129e+00 1.5376e+00 1.5625e+00\n",
      " 1.5876e+00 1.6129e+00 1.6384e+00 1.6641e+00 1.6900e+00 1.7161e+00\n",
      " 1.7424e+00 1.7689e+00 1.7956e+00 1.8225e+00 1.8496e+00 1.8769e+00\n",
      " 1.9044e+00 1.9321e+00 1.9600e+00 1.9881e+00 2.0164e+00 2.0449e+00\n",
      " 2.0736e+00 2.1025e+00 2.1316e+00 2.1609e+00 2.1904e+00 2.2201e+00\n",
      " 2.2500e+00 2.2801e+00 2.3104e+00 2.3409e+00 2.3716e+00 2.4025e+00\n",
      " 2.4336e+00 2.4649e+00 2.4964e+00 2.5281e+00 2.5600e+00 2.5921e+00\n",
      " 2.6244e+00 2.6569e+00 2.6896e+00 2.7225e+00 2.7556e+00 2.7889e+00\n",
      " 2.8224e+00 2.8561e+00 2.8900e+00 2.9241e+00 2.9584e+00 2.9929e+00\n",
      " 3.0276e+00 3.0625e+00 3.0976e+00 3.1329e+00 3.1684e+00 3.2041e+00\n",
      " 3.2400e+00 3.2761e+00 3.3124e+00 3.3489e+00 3.3856e+00 3.4225e+00\n",
      " 3.4596e+00 3.4969e+00 3.5344e+00 3.5721e+00 3.6100e+00 3.6481e+00\n",
      " 3.6864e+00 3.7249e+00 3.7636e+00 3.8025e+00 3.8416e+00 3.8809e+00\n",
      " 3.9204e+00 3.9601e+00 4.0000e+00 4.0401e+00 4.0804e+00 4.1209e+00\n",
      " 4.1616e+00 4.2025e+00 4.2436e+00 4.2849e+00 4.3264e+00 4.3681e+00\n",
      " 4.4100e+00 4.4521e+00 4.4944e+00 4.5369e+00 4.5796e+00 4.6225e+00\n",
      " 4.6656e+00 4.7089e+00 4.7524e+00 4.7961e+00 4.8400e+00 4.8841e+00\n",
      " 4.9284e+00 4.9729e+00 5.0176e+00 5.0625e+00 5.1076e+00 5.1529e+00\n",
      " 5.1984e+00 5.2441e+00 5.2900e+00 5.3361e+00 5.3824e+00 5.4289e+00\n",
      " 5.4756e+00 5.5225e+00 5.5696e+00 5.6169e+00 5.6644e+00 5.7121e+00\n",
      " 5.7600e+00 5.8081e+00 5.8564e+00 5.9049e+00 5.9536e+00 6.0025e+00\n",
      " 6.0516e+00 6.1009e+00 6.1504e+00 6.2001e+00 6.2500e+00 6.3001e+00\n",
      " 6.3504e+00 6.4009e+00 6.4516e+00 6.5025e+00 6.5536e+00 6.6049e+00\n",
      " 6.6564e+00 6.7081e+00 6.7600e+00 6.8121e+00 6.8644e+00 6.9169e+00\n",
      " 6.9696e+00 7.0225e+00 7.0756e+00 7.1289e+00 7.1824e+00 7.2361e+00\n",
      " 7.2900e+00 7.3441e+00 7.3984e+00 7.4529e+00 7.5076e+00 7.5625e+00\n",
      " 7.6176e+00 7.6729e+00 7.7284e+00 7.7841e+00 7.8400e+00 7.8961e+00\n",
      " 7.9524e+00 8.0089e+00 8.0656e+00 8.1225e+00 8.1796e+00 8.2369e+00\n",
      " 8.2944e+00 8.3521e+00 8.4100e+00 8.4681e+00 8.5264e+00 8.5849e+00\n",
      " 8.6436e+00 8.7025e+00 8.7616e+00 8.8209e+00 8.8804e+00 8.9401e+00]\n",
      "\n",
      "\n",
      "[0.0000e+00 1.0000e-06 4.0000e-06 9.0000e-06 1.6000e-05 2.5000e-05\n",
      " 3.6000e-05 4.9000e-05 6.4000e-05 8.1000e-05 1.0000e-04 1.2100e-04\n",
      " 1.4400e-04 1.6900e-04 1.9600e-04 2.2500e-04 2.5600e-04 2.8900e-04\n",
      " 3.2400e-04 3.6100e-04 4.0000e-04 4.4100e-04 4.8400e-04 5.2900e-04\n",
      " 5.7600e-04 6.2500e-04 6.7600e-04 7.2900e-04 7.8400e-04 8.4100e-04\n",
      " 9.0000e-04 9.6100e-04 1.0240e-03 1.0890e-03 1.1560e-03 1.2250e-03\n",
      " 1.2960e-03 1.3690e-03 1.4440e-03 1.5210e-03 1.6000e-03 1.6810e-03\n",
      " 1.7640e-03 1.8490e-03 1.9360e-03 2.0250e-03 2.1160e-03 2.2090e-03\n",
      " 2.3040e-03 2.4010e-03 2.5000e-03 2.6010e-03 2.7040e-03 2.8090e-03\n",
      " 2.9160e-03 3.0250e-03 3.1360e-03 3.2490e-03 3.3640e-03 3.4810e-03\n",
      " 3.6000e-03 3.7210e-03 3.8440e-03 3.9690e-03 4.0960e-03 4.2250e-03\n",
      " 4.3560e-03 4.4890e-03 4.6240e-03 4.7610e-03 4.9000e-03 5.0410e-03\n",
      " 5.1840e-03 5.3290e-03 5.4760e-03 5.6250e-03 5.7760e-03 5.9290e-03\n",
      " 6.0840e-03 6.2410e-03 6.4000e-03 6.5610e-03 6.7240e-03 6.8890e-03\n",
      " 7.0560e-03 7.2250e-03 7.3960e-03 7.5690e-03 7.7440e-03 7.9210e-03\n",
      " 8.1000e-03 8.2810e-03 8.4640e-03 8.6490e-03 8.8360e-03 9.0250e-03\n",
      " 9.2160e-03 9.4090e-03 9.6040e-03 9.8010e-03 1.0000e-02 1.0201e-02\n",
      " 1.0404e-02 1.0609e-02 1.0816e-02 1.1025e-02 1.1236e-02 1.1449e-02\n",
      " 1.1664e-02 1.1881e-02 1.2100e-02 1.2321e-02 1.2544e-02 1.2769e-02\n",
      " 1.2996e-02 1.3225e-02 1.3456e-02 1.3689e-02 1.3924e-02 1.4161e-02\n",
      " 1.4400e-02 1.4641e-02 1.4884e-02 1.5129e-02 1.5376e-02 1.5625e-02\n",
      " 1.5876e-02 1.6129e-02 1.6384e-02 1.6641e-02 1.6900e-02 1.7161e-02\n",
      " 1.7424e-02 1.7689e-02 1.7956e-02 1.8225e-02 1.8496e-02 1.8769e-02\n",
      " 1.9044e-02 1.9321e-02 1.9600e-02 1.9881e-02 2.0164e-02 2.0449e-02\n",
      " 2.0736e-02 2.1025e-02 2.1316e-02 2.1609e-02 2.1904e-02 2.2201e-02\n",
      " 2.2500e-02 2.2801e-02 2.3104e-02 2.3409e-02 2.3716e-02 2.4025e-02\n",
      " 2.4336e-02 2.4649e-02 2.4964e-02 2.5281e-02 2.5600e-02 2.5921e-02\n",
      " 2.6244e-02 2.6569e-02 2.6896e-02 2.7225e-02 2.7556e-02 2.7889e-02\n",
      " 2.8224e-02 2.8561e-02 2.8900e-02 2.9241e-02 2.9584e-02 2.9929e-02\n",
      " 3.0276e-02 3.0625e-02 3.0976e-02 3.1329e-02 3.1684e-02 3.2041e-02\n",
      " 3.2400e-02 3.2761e-02 3.3124e-02 3.3489e-02 3.3856e-02 3.4225e-02\n",
      " 3.4596e-02 3.4969e-02 3.5344e-02 3.5721e-02 3.6100e-02 3.6481e-02\n",
      " 3.6864e-02 3.7249e-02 3.7636e-02 3.8025e-02 3.8416e-02 3.8809e-02\n",
      " 3.9204e-02 3.9601e-02 4.0000e-02 4.0401e-02 4.0804e-02 4.1209e-02\n",
      " 4.1616e-02 4.2025e-02 4.2436e-02 4.2849e-02 4.3264e-02 4.3681e-02\n",
      " 4.4100e-02 4.4521e-02 4.4944e-02 4.5369e-02 4.5796e-02 4.6225e-02\n",
      " 4.6656e-02 4.7089e-02 4.7524e-02 4.7961e-02 4.8400e-02 4.8841e-02\n",
      " 4.9284e-02 4.9729e-02 5.0176e-02 5.0625e-02 5.1076e-02 5.1529e-02\n",
      " 5.1984e-02 5.2441e-02 5.2900e-02 5.3361e-02 5.3824e-02 5.4289e-02\n",
      " 5.4756e-02 5.5225e-02 5.5696e-02 5.6169e-02 5.6644e-02 5.7121e-02\n",
      " 5.7600e-02 5.8081e-02 5.8564e-02 5.9049e-02 5.9536e-02 6.0025e-02\n",
      " 6.0516e-02 6.1009e-02 6.1504e-02 6.2001e-02 6.2500e-02 6.3001e-02\n",
      " 6.3504e-02 6.4009e-02 6.4516e-02 6.5025e-02 6.5536e-02 6.6049e-02\n",
      " 6.6564e-02 6.7081e-02 6.7600e-02 6.8121e-02 6.8644e-02 6.9169e-02\n",
      " 6.9696e-02 7.0225e-02 7.0756e-02 7.1289e-02 7.1824e-02 7.2361e-02\n",
      " 7.2900e-02 7.3441e-02 7.3984e-02 7.4529e-02 7.5076e-02 7.5625e-02\n",
      " 7.6176e-02 7.6729e-02 7.7284e-02 7.7841e-02 7.8400e-02 7.8961e-02\n",
      " 7.9524e-02 8.0089e-02 8.0656e-02 8.1225e-02 8.1796e-02 8.2369e-02\n",
      " 8.2944e-02 8.3521e-02 8.4100e-02 8.4681e-02 8.5264e-02 8.5849e-02\n",
      " 8.6436e-02 8.7025e-02 8.7616e-02 8.8209e-02 8.8804e-02 8.9401e-02]\n",
      "\n",
      "\n",
      "x^2의 0 ~ 3까지 정적분 결과 = 8.95505\n"
     ]
    }
   ],
   "source": [
    "import numpy as np\n",
    "\n",
    "# 검산을 하고 싶다면 값을 크게 만들도록 한다(대신 정밀도가 떨어짐)\n",
    "# 정밀도는 값을 작게 만들수록 커진다.\n",
    "dx = 0.01\n",
    "\n",
    "def integralRange(start, end):\n",
    "    # np.arange()를 통해서 start 부터 end 사이에\n",
    "    # dx 로 몇 개가 만들어지는지 자동으로 계산을 해준다.\n",
    "    # curX(계산할 지점의 x 값 자체를 배열로 만들어줌)\n",
    "    curX = np.arange(start, end, dx)\n",
    "    #print(curX)\n",
    "    #print(\"\\n\")\n",
    "    # 모든 y^2\n",
    "    Y = curX ** 2\n",
    "    #print(Y)\n",
    "    #print(\"\\n\")\n",
    "    # 모든 사각형의 넓이값들\n",
    "    eachBlock = dx * Y\n",
    "    #print(eachBlock)\n",
    "    #print(\"\\n\")\n",
    "    # eachBlock(모든 사각형의 넓이값들)을 모두 합산해라!\n",
    "    area = np.sum(eachBlock)\n",
    "    #print(area)\n",
    "    return area\n",
    "\n",
    "area = integralRange(0, 3)\n",
    "print(\"x^2의 0 ~ 3까지 정적분 결과 =\", area)"
   ]
  },
  {
   "cell_type": "code",
   "execution_count": 127,
   "metadata": {
    "scrolled": false
   },
   "outputs": [
    {
     "name": "stdout",
     "output_type": "stream",
     "text": [
      "[0 1 2 3 4]\n",
      "[ 0  1  4  9 16]\n",
      "[ 0  1  8 27 64]\n"
     ]
    }
   ],
   "source": [
    "curX = np.arange(0, 5, 1)\n",
    "print(curX)\n",
    "Y = curX ** 2\n",
    "print(Y)\n",
    "eachBlock = curX * Y\n",
    "print(eachBlock)"
   ]
  },
  {
   "cell_type": "code",
   "execution_count": null,
   "metadata": {},
   "outputs": [],
   "source": []
  }
 ],
 "metadata": {
  "kernelspec": {
   "display_name": "Python 3",
   "language": "python",
   "name": "python3"
  },
  "language_info": {
   "codemirror_mode": {
    "name": "ipython",
    "version": 3
   },
   "file_extension": ".py",
   "mimetype": "text/x-python",
   "name": "python",
   "nbconvert_exporter": "python",
   "pygments_lexer": "ipython3",
   "version": "3.7.6"
  }
 },
 "nbformat": 4,
 "nbformat_minor": 4
}
