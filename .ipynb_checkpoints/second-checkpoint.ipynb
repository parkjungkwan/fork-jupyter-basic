{
 "cells": [
  {
   "cell_type": "code",
   "execution_count": 3,
   "metadata": {},
   "outputs": [
    {
     "name": "stdout",
     "output_type": "stream",
     "text": [
      "<function times at 0x00000251D4F4FDC8>\n",
      "21\n",
      "{'__name__': '__main__', '__doc__': 'Automatically created module for IPython interactive environment', '__package__': None, '__loader__': None, '__spec__': None, '__builtin__': <module 'builtins' (built-in)>, '__builtins__': <module 'builtins' (built-in)>, '_ih': ['', '# def가 붙어있으면 함수다.\\n# 클래스 외부에 있는 매서드(클래스와 관계가 없음)라고 생각하면 된다.\\ndef times(a, b):\\n    return a * b\\n\\nprint(times)\\nprint(times(3, 7))\\n\\nprint(globals())', '# def가 붙어있으면 함수다.\\n# 클래스 외부에 있는 매서드(클래스와 관계가 없음)라고 생각하면 된다.\\ndef times(a, b):\\n    return a * b\\n\\nprint(times)\\nprint(times(3, 7))\\n\\n#print(globals())', '# def가 붙어있으면 함수다.\\n# 클래스 외부에 있는 매서드(클래스와 관계가 없음)라고 생각하면 된다.\\ndef times(a, b):\\n    return a * b\\n\\n# 여기서 출력된 숫자가 객체가 위치하는 메모리 주소값이다.\\n# C, C++ 스타일로 얘기하면 포인터\\n# 자바 스타일로 얘기하면 객체\\n# 나오는 숫자값은 근시대의 컴퓨터 16 자리가 나올 것이다.\\n# (이유는 포인터의 크기가 64비트 컴퓨터에서 8 byte이기 때문)\\n# 8 바이트라는 것은 16진수로 표기했을때 16 자리가 나옴\\n# 1 바이트 16진수 2자리\\n# 16진수 1자리는 4 비트(bit)\\n# WebAssembly(웹어셈블리) - 웹기술 + C++\\nprint(times)\\nprint(times(3, 7))\\n\\nprint(globals())'], '_oh': {}, '_dh': ['C:\\\\Users\\\\bit\\\\jupyter_workspace'], 'In': ['', '# def가 붙어있으면 함수다.\\n# 클래스 외부에 있는 매서드(클래스와 관계가 없음)라고 생각하면 된다.\\ndef times(a, b):\\n    return a * b\\n\\nprint(times)\\nprint(times(3, 7))\\n\\nprint(globals())', '# def가 붙어있으면 함수다.\\n# 클래스 외부에 있는 매서드(클래스와 관계가 없음)라고 생각하면 된다.\\ndef times(a, b):\\n    return a * b\\n\\nprint(times)\\nprint(times(3, 7))\\n\\n#print(globals())', '# def가 붙어있으면 함수다.\\n# 클래스 외부에 있는 매서드(클래스와 관계가 없음)라고 생각하면 된다.\\ndef times(a, b):\\n    return a * b\\n\\n# 여기서 출력된 숫자가 객체가 위치하는 메모리 주소값이다.\\n# C, C++ 스타일로 얘기하면 포인터\\n# 자바 스타일로 얘기하면 객체\\n# 나오는 숫자값은 근시대의 컴퓨터 16 자리가 나올 것이다.\\n# (이유는 포인터의 크기가 64비트 컴퓨터에서 8 byte이기 때문)\\n# 8 바이트라는 것은 16진수로 표기했을때 16 자리가 나옴\\n# 1 바이트 16진수 2자리\\n# 16진수 1자리는 4 비트(bit)\\n# WebAssembly(웹어셈블리) - 웹기술 + C++\\nprint(times)\\nprint(times(3, 7))\\n\\nprint(globals())'], 'Out': {}, 'get_ipython': <bound method InteractiveShell.get_ipython of <ipykernel.zmqshell.ZMQInteractiveShell object at 0x00000251D3303B88>>, 'exit': <IPython.core.autocall.ZMQExitAutocall object at 0x00000251D4F07A08>, 'quit': <IPython.core.autocall.ZMQExitAutocall object at 0x00000251D4F07A08>, '_': '', '__': '', '___': '', '_i': '# def가 붙어있으면 함수다.\\n# 클래스 외부에 있는 매서드(클래스와 관계가 없음)라고 생각하면 된다.\\ndef times(a, b):\\n    return a * b\\n\\nprint(times)\\nprint(times(3, 7))\\n\\n#print(globals())', '_ii': '# def가 붙어있으면 함수다.\\n# 클래스 외부에 있는 매서드(클래스와 관계가 없음)라고 생각하면 된다.\\ndef times(a, b):\\n    return a * b\\n\\nprint(times)\\nprint(times(3, 7))\\n\\nprint(globals())', '_iii': '', '_i1': '# def가 붙어있으면 함수다.\\n# 클래스 외부에 있는 매서드(클래스와 관계가 없음)라고 생각하면 된다.\\ndef times(a, b):\\n    return a * b\\n\\nprint(times)\\nprint(times(3, 7))\\n\\nprint(globals())', 'times': <function times at 0x00000251D4F4FDC8>, '_i2': '# def가 붙어있으면 함수다.\\n# 클래스 외부에 있는 매서드(클래스와 관계가 없음)라고 생각하면 된다.\\ndef times(a, b):\\n    return a * b\\n\\nprint(times)\\nprint(times(3, 7))\\n\\n#print(globals())', '_i3': '# def가 붙어있으면 함수다.\\n# 클래스 외부에 있는 매서드(클래스와 관계가 없음)라고 생각하면 된다.\\ndef times(a, b):\\n    return a * b\\n\\n# 여기서 출력된 숫자가 객체가 위치하는 메모리 주소값이다.\\n# C, C++ 스타일로 얘기하면 포인터\\n# 자바 스타일로 얘기하면 객체\\n# 나오는 숫자값은 근시대의 컴퓨터 16 자리가 나올 것이다.\\n# (이유는 포인터의 크기가 64비트 컴퓨터에서 8 byte이기 때문)\\n# 8 바이트라는 것은 16진수로 표기했을때 16 자리가 나옴\\n# 1 바이트 16진수 2자리\\n# 16진수 1자리는 4 비트(bit)\\n# WebAssembly(웹어셈블리) - 웹기술 + C++\\nprint(times)\\nprint(times(3, 7))\\n\\nprint(globals())'}\n"
     ]
    }
   ],
   "source": [
    "# def가 붙어있으면 함수다.\n",
    "# 클래스 외부에 있는 매서드(클래스와 관계가 없음)라고 생각하면 된다.\n",
    "def times(a, b):\n",
    "    return a * b\n",
    "\n",
    "# 여기서 출력된 숫자가 객체가 위치하는 메모리 주소값이다.\n",
    "# C, C++ 스타일로 얘기하면 포인터\n",
    "# 자바 스타일로 얘기하면 객체\n",
    "# 나오는 숫자값은 근시대의 컴퓨터 16 자리가 나올 것이다.\n",
    "# (이유는 포인터의 크기가 64비트 컴퓨터에서 8 byte이기 때문)\n",
    "# 8 바이트라는 것은 16진수로 표기했을때 16 자리가 나옴\n",
    "# 1 바이트 16진수 2자리\n",
    "# 16진수 1자리는 4 비트(bit)\n",
    "# WebAssembly(웹어셈블리) - 웹기술 + C++\n",
    "print(times)\n",
    "print(times(3, 7))\n",
    "\n",
    "# built-in 별도의 import 없이도 사용할 수 있는 내장 함수들\n",
    "# globals()라는 것은 현재 파이썬이 구동되면서\n",
    "# 활용할 수 있는 함수들의 리스트를 보여준다.\n",
    "print(globals())"
   ]
  },
  {
   "cell_type": "code",
   "execution_count": 4,
   "metadata": {},
   "outputs": [
    {
     "name": "stdout",
     "output_type": "stream",
     "text": [
      "49\n"
     ]
    }
   ],
   "source": [
    "# times라는 함수의 객체 정보를 pointerOfFunction이 받아서 저장한다.\n",
    "# 변수의 진정한 정의 ?!\n",
    "# state - 어느정도 무방\n",
    "# 어떤 값이 저장되는 공간\n",
    "# 특정한 데이터 타입이 저장되는 공간!\n",
    "# 자바에서는 객체를 출력하면 @샬라샬라 가 보이는데\n",
    "# 이것이 바로 메모리 주소값에 해당하는 것\n",
    "pointerOfFunction = times\n",
    "# 즉 pointerOfFunction을 times 함수처럼 활용할 수 있게 된다.\n",
    "res = pointerOfFunction(7, 7)\n",
    "print(res)"
   ]
  },
  {
   "cell_type": "code",
   "execution_count": 5,
   "metadata": {},
   "outputs": [
    {
     "name": "stdout",
     "output_type": "stream",
     "text": [
      "res = 10\n",
      "res = 21\n"
     ]
    }
   ],
   "source": [
    "# ?????????? 왜 인터페이스 ?\n",
    "def add(a, b):\n",
    "    return a + b\n",
    "\n",
    "# 현재 여기서는 pof 변수가 add 함수의 주소를 저장한다.\n",
    "pof = add\n",
    "# 그러므로 이것은 add(3, 7)과 같다.\n",
    "res = pof(3, 7)\n",
    "print(\"res =\", res)\n",
    "\n",
    "# 여기서는 pof 변수가 times 함수의 주소를 저장한다.\n",
    "pof = times\n",
    "# 이것은 times(3, 7)과 같다.\n",
    "res = pof(3, 7)\n",
    "print(\"res =\", res)\n",
    "# 경우에 따라서 덧셈, 뺄셈, 곱셈 등등을 자유롭게 수행할 수 있게 해주는 기법\n",
    "# 자바에서는 인터페이스에 해당하는 내용이다.\n",
    "\n",
    "# 인터페이스를 사용하는 이유\n",
    "# RPG 게임을 구현한다고 가정한다.\n",
    "# 전사, 마법사, 궁수, 각각의 1차, 2차, 3차 전직등등이 있을 것이다.\n",
    "# 이때 calculateDamage()라는 메소드를 각 직업별로 구현한다고 하면\n",
    "# calculateWarriorDamage(), calculateMagicianDamage() ....\n",
    "# 1차 직업용 데미지 계산, 2차용, 3차용 ....\n",
    "# 관리 포인트가 늘어나게 된다.\n",
    "# 그러나 인터페이스를 사용하여 calculateDamage()로 퉁치면\n",
    "# 모든 데미지 계산은 calculateDamage() 매서드로 일관되게 처리할 수 있으며\n",
    "# 해당 interface를 implement한 클래스 별로\n",
    "# 서로 다른 데미지 계산 공식을 활용할 수 있다."
   ]
  },
  {
   "cell_type": "code",
   "execution_count": 8,
   "metadata": {},
   "outputs": [
    {
     "name": "stdout",
     "output_type": "stream",
     "text": [
      "x(prelist) = A\n",
      "x(prelist) = p\n",
      "x(prelist) = p\n",
      "x(prelist) = l\n",
      "x(prelist) = e\n",
      "[]\n",
      "x(prelist) = A\n",
      "x(postlist) = A\n",
      "x(prelist) = p\n",
      "x(prelist) = p\n",
      "x(prelist) = l\n",
      "x(prelist) = e\n",
      "['A']\n"
     ]
    }
   ],
   "source": [
    "def intersect(prelist, postlist):\n",
    "    retList = []\n",
    "    # 리스트(prelist)에서 글자 하나씩 뽑아온다.\n",
    "    for x in prelist:\n",
    "        print(\"x(prelist) =\", x)\n",
    "        # 리스트(postlist)에서 글자를 뽑아 위에서 가져온 값과 일치하는지 비교한다.\n",
    "        if x in postlist:\n",
    "            # 일치한다면 해당 내용을 retList 리스트에 추가\n",
    "            print(\"x(postlist) =\", x)\n",
    "            retList.append(x)\n",
    "    return retList\n",
    "\n",
    "list1 = \"Apple\"\n",
    "list2 = \"onion\"\n",
    "\n",
    "print(intersect(list1, list2))\n",
    "print(intersect(list1, ['H', 'A', 'M']))"
   ]
  },
  {
   "cell_type": "code",
   "execution_count": 10,
   "metadata": {},
   "outputs": [
    {
     "name": "stdout",
     "output_type": "stream",
     "text": [
      "(7, 3)\n",
      "77 33\n",
      "(777, 333)\n",
      "<class 'tuple'>\n"
     ]
    }
   ],
   "source": [
    "# 아래를 자바 버전에서 한다면\n",
    "# public void swap(int x, int y) {\n",
    "#   int temp = x;\n",
    "#   x = y;\n",
    "#   y = temp;\n",
    "# }\n",
    "#\n",
    "# 위의 기능을 아래와 같이 단순하게 만들어 줄 수 있다.\n",
    "def swap(x, y):\n",
    "    return y, x\n",
    "\n",
    "print(swap(3, 7))\n",
    "\n",
    "# 두개를 리턴하니 아래와 같이 두개에 값을 받을 수도 있다.\n",
    "a, b = swap(33, 77)\n",
    "print(a, b)\n",
    "\n",
    "# 그리고 n개를 하나로 아래와 같이 한 개로 받을 수도 있다.\n",
    "# 이런식으로 값을 받게 되면 튜플(tuple)이란것이 된다.\n",
    "x = swap(333, 777)\n",
    "print(x)\n",
    "print(type(x))"
   ]
  },
  {
   "cell_type": "code",
   "execution_count": 11,
   "metadata": {},
   "outputs": [
    {
     "name": "stdout",
     "output_type": "stream",
     "text": [
      "['J', 'A', 'M']\n",
      "['H', 'A', 'M']\n"
     ]
    }
   ],
   "source": [
    "# Java에서 출력할 때 System.out.println(\"Hello Java\")\n",
    "# \"Hello Java\" ->  [0] [1] [2] [3] [4] [5] [6] [7] [8] [9]\n",
    "#                   H   e   l   l   o       J   a   v   a\n",
    "# 해당 데이터는 메모리 섹션 \"data\"라는 곳에 저장됨\n",
    "def change(x):\n",
    "    x[0] = 'H'\n",
    "    \n",
    "wordlist = ['J', 'A', 'M']\n",
    "print(wordlist)\n",
    "\n",
    "change(wordlist)\n",
    "print(wordlist)"
   ]
  },
  {
   "cell_type": "code",
   "execution_count": 12,
   "metadata": {},
   "outputs": [
    {
     "name": "stdout",
     "output_type": "stream",
     "text": [
      "['J', 'A', 'M']\n",
      "['H', 'A', 'M']\n",
      "['J', 'A', 'M']\n"
     ]
    }
   ],
   "source": [
    "def change2(x):\n",
    "    # x[:] 새로운 동일 객체를 만든다.\n",
    "    # 그러므로 인자로 들어온 x와 여기서 새로 만든 x가 분리가 된다.\n",
    "    # 인자로 들어온 x를 변경하지 않은 상태로\n",
    "    # 값을 가공하고자 할 때 주로 사용하는 기법이다.\n",
    "    x = x[:]\n",
    "    x[0] = 'H'\n",
    "    print(x)\n",
    "    \n",
    "wordlist = ['J', 'A', 'M']\n",
    "print(wordlist)\n",
    "\n",
    "change2(wordlist)\n",
    "print(wordlist)"
   ]
  },
  {
   "cell_type": "code",
   "execution_count": 13,
   "metadata": {},
   "outputs": [
    {
     "name": "stdout",
     "output_type": "stream",
     "text": [
      "1\n",
      "10\n",
      "7\n"
     ]
    }
   ],
   "source": [
    "# 변수 glob을 선언함\n",
    "glob = 1\n",
    "print(glob)\n",
    "\n",
    "def xchGScope(x):\n",
    "    # glob은 전역 변수를 지정\n",
    "    global glob\n",
    "    # 최상위에 있는 glob이 1 -> 7로 변경\n",
    "    glob = 7\n",
    "    return glob + x\n",
    "\n",
    "print(xchGScope(3))\n",
    "print(glob)"
   ]
  },
  {
   "cell_type": "code",
   "execution_count": 14,
   "metadata": {},
   "outputs": [
    {
     "name": "stdout",
     "output_type": "stream",
     "text": [
      "200\n",
      "100\n",
      "21\n"
     ]
    }
   ],
   "source": [
    "# 인자가 없을 경우 a와 b의 초기값을 10, 20으로 지정하는 것\n",
    "def times(a = 10, b = 20):\n",
    "    return a * b\n",
    "\n",
    "# a = 10, b = 20 -> 200\n",
    "print(times())\n",
    "# a = 5, b = 20 -> 100\n",
    "print(times(5))\n",
    "# a = 3, b = 7 -> 21\n",
    "print(times(3, 7))"
   ]
  },
  {
   "cell_type": "code",
   "execution_count": 16,
   "metadata": {},
   "outputs": [
    {
     "name": "stdout",
     "output_type": "stream",
     "text": [
      "http://test.com:8000\n",
      "http://test.com:8000\n",
      "http://test.com:8000\n",
      "http://test.com:8080\n"
     ]
    }
   ],
   "source": [
    "def connectURI(server, port):\n",
    "    str = \"http://\" + server + \":\" + port\n",
    "    return str\n",
    "\n",
    "name = \"test.com\"\n",
    "service = \"8080\"\n",
    "\n",
    "# 파이썬은 아래 보이는것과 같이\n",
    "# 인자의 순서를 지키지 않아도 인자를 받을 수 있다.\n",
    "print(connectURI(\"test.com\", \"8000\"))\n",
    "print(connectURI(port = \"8000\", server = \"test.com\"))\n",
    "print(connectURI(\"test.com\", port = \"8000\"))\n",
    "print(connectURI(name, service))"
   ]
  },
  {
   "cell_type": "code",
   "execution_count": 17,
   "metadata": {},
   "outputs": [
    {
     "name": "stdout",
     "output_type": "stream",
     "text": [
      "<class 'tuple'>\n"
     ]
    }
   ],
   "source": [
    "# 가변 인자로 값을 처리하게 되면 튜플 타입이 된다.\n",
    "def test(*args):\n",
    "    print(type(args))\n",
    "    \n",
    "test(1, 2, 3)"
   ]
  },
  {
   "cell_type": "code",
   "execution_count": 18,
   "metadata": {},
   "outputs": [
    {
     "name": "stdout",
     "output_type": "stream",
     "text": [
      "['H', 'A', 'M', 'E', 'G', 'P', 'O', 'T']\n",
      "['t', 'e', 's', 'd', 'j', 'u', 'n', 'i']\n"
     ]
    }
   ],
   "source": [
    "# *(에스테릭) - 포인터 x\n",
    "# 파이썬에서 가변 인자(파라미터)를 받을 경우 *을 붙인다.\n",
    "def union2(*ar):\n",
    "    res = []\n",
    "    # ar 튜플에서 각각의 요소를 item으로 뺀다.\n",
    "    for item in ar:\n",
    "        # item에 있는 글자 한 개씩 x로 뺀다.\n",
    "        for x in item:\n",
    "            # res라는 리스트와 값이 같은지 확인하고\n",
    "            # 같은것이 없다면 x를 res 리스트에 추가한다.\n",
    "            if not x in res:\n",
    "                res.append(x)\n",
    "    return res\n",
    "\n",
    "# 중복 문자를 제외하고 사용된 모든 문자\n",
    "print(union2(\"HAM\", \"EGG\", \"POTATO\"))\n",
    "print(union2(\"test\", \"tdd\", \"junit\"))"
   ]
  },
  {
   "cell_type": "code",
   "execution_count": 2,
   "metadata": {},
   "outputs": [
    {
     "name": "stdout",
     "output_type": "stream",
     "text": [
      "6\n",
      "9\n",
      "24\n",
      "{'__name__': '__main__', '__doc__': 'Automatically created module for IPython interactive environment', '__package__': None, '__loader__': None, '__spec__': None, '__builtin__': <module 'builtins' (built-in)>, '__builtins__': <module 'builtins' (built-in)>, '_ih': ['', 'g = lambda x, y: x * y\\nprint(g(2, 3))\\n\\nprint((lambda x: x * x)(3))\\n\\nprint(globals())', 'g = lambda x, y: x * y\\nprint(g(2, 3))\\n\\nprint((lambda x: x * x)(3))\\n\\nonemore = lambda x, y, z: x * y * z\\nprint(onemore(2, 3, 4))\\n\\nprint(globals())'], '_oh': {}, '_dh': ['C:\\\\Users\\\\bit\\\\jupyter_workspace'], 'In': ['', 'g = lambda x, y: x * y\\nprint(g(2, 3))\\n\\nprint((lambda x: x * x)(3))\\n\\nprint(globals())', 'g = lambda x, y: x * y\\nprint(g(2, 3))\\n\\nprint((lambda x: x * x)(3))\\n\\nonemore = lambda x, y, z: x * y * z\\nprint(onemore(2, 3, 4))\\n\\nprint(globals())'], 'Out': {}, 'get_ipython': <bound method InteractiveShell.get_ipython of <ipykernel.zmqshell.ZMQInteractiveShell object at 0x0000027DEB8E80C8>>, 'exit': <IPython.core.autocall.ZMQExitAutocall object at 0x0000027DEB987C88>, 'quit': <IPython.core.autocall.ZMQExitAutocall object at 0x0000027DEB987C88>, '_': '', '__': '', '___': '', '_i': 'g = lambda x, y: x * y\\nprint(g(2, 3))\\n\\nprint((lambda x: x * x)(3))\\n\\nprint(globals())', '_ii': '', '_iii': '', '_i1': 'g = lambda x, y: x * y\\nprint(g(2, 3))\\n\\nprint((lambda x: x * x)(3))\\n\\nprint(globals())', 'g': <function <lambda> at 0x0000027DEB9F0288>, '_i2': 'g = lambda x, y: x * y\\nprint(g(2, 3))\\n\\nprint((lambda x: x * x)(3))\\n\\nonemore = lambda x, y, z: x * y * z\\nprint(onemore(2, 3, 4))\\n\\nprint(globals())', 'onemore': <function <lambda> at 0x0000027DEB9F00D8>}\n"
     ]
    }
   ],
   "source": [
    "# 변수는 언제 할당될까 ?\n",
    "# Java에서 int num;\n",
    "# 선언만으로는 변수가 할당되지 않는다.\n",
    "# 값을 집어넣어야 변수가 할당되면서 메모리가 잡힌다.\n",
    "g = lambda x, y: x * y\n",
    "print(g(2, 3))\n",
    "\n",
    "retList = [1, 2, 3, 4, 5]\n",
    "\n",
    "# 즉 메모리 할당을 받지 않으면 완벽한 익명 객체가 된다.\n",
    "print((lambda x: x * x)(3))\n",
    "\n",
    "onemore = lambda x, y, z: x * y * z\n",
    "print(onemore(2, 3, 4))\n",
    "\n",
    "re = lambda *argv: argv[0]\n",
    "\n",
    "print(globals())"
   ]
  },
  {
   "cell_type": "code",
   "execution_count": 3,
   "metadata": {},
   "outputs": [],
   "source": [
    "# def로 선언한 함수들은\n",
    "# 메모리 구조상 Text라는 영역에 잡히게 된다.\n",
    "# 가상 메모리 개념에 보면 Text | Data | Heap | Stack\n",
    "# 상수는 전부 Data에 배치됨\n",
    "# new한 것들은 전부 Heap에 배치됨\n",
    "# 그 외의 변수들은 Stack에 배치\n",
    "\n",
    "# A.java, B.java, C.java 와 같이 파일이 3 개 존재한다.\n",
    "# javac A.class, B.class, C.class\n",
    "# java를 통해서 각각의 클래스들을 구동시킴\n",
    "\n",
    "# ex) A는 Text를 40000 ~ 50000, Heap 10000 ~ 20000\n",
    "#     B는 Text를 60000 ~ 70000, Heap 15000 ~ 20000\n",
    "\n",
    "# 시스템 언어들은 이것을 컴파일 시점에\n",
    "# 링킹이란 작업을 통해 완벽하게 겹치지 않게 조정한다.\n",
    "# 반면 인터프리팅 방식의 언어들은 이것을 Run-Time(실행중) 동적으로 조정한다.\n",
    "# 결론은 동적이든 정적이든 이러한 것을 조정하기 위해 각 영역의 분리가 필요하다.\n",
    "# 자바는 하이브리드 방식을 채택하고 있다는 것!\n",
    "# javac는 컴파일러의 역할이며 java는 인터프리터 역할을 함"
   ]
  },
  {
   "cell_type": "code",
   "execution_count": 4,
   "metadata": {},
   "outputs": [
    {
     "name": "stdout",
     "output_type": "stream",
     "text": [
      "Help on built-in function print in module builtins:\n",
      "\n",
      "print(...)\n",
      "    print(value, ..., sep=' ', end='\\n', file=sys.stdout, flush=False)\n",
      "    \n",
      "    Prints the values to a stream, or to sys.stdout by default.\n",
      "    Optional keyword arguments:\n",
      "    file:  a file-like object (stream); defaults to the current sys.stdout.\n",
      "    sep:   string inserted between values, default a space.\n",
      "    end:   string appended after the last value, default a newline.\n",
      "    flush: whether to forcibly flush the stream.\n",
      "\n"
     ]
    }
   ],
   "source": [
    "help(print)"
   ]
  },
  {
   "cell_type": "code",
   "execution_count": 5,
   "metadata": {},
   "outputs": [
    {
     "name": "stdout",
     "output_type": "stream",
     "text": [
      "Help on built-in module math:\n",
      "\n",
      "NAME\n",
      "    math\n",
      "\n",
      "DESCRIPTION\n",
      "    This module provides access to the mathematical functions\n",
      "    defined by the C standard.\n",
      "\n",
      "FUNCTIONS\n",
      "    acos(x, /)\n",
      "        Return the arc cosine (measured in radians) of x.\n",
      "    \n",
      "    acosh(x, /)\n",
      "        Return the inverse hyperbolic cosine of x.\n",
      "    \n",
      "    asin(x, /)\n",
      "        Return the arc sine (measured in radians) of x.\n",
      "    \n",
      "    asinh(x, /)\n",
      "        Return the inverse hyperbolic sine of x.\n",
      "    \n",
      "    atan(x, /)\n",
      "        Return the arc tangent (measured in radians) of x.\n",
      "    \n",
      "    atan2(y, x, /)\n",
      "        Return the arc tangent (measured in radians) of y/x.\n",
      "        \n",
      "        Unlike atan(y/x), the signs of both x and y are considered.\n",
      "    \n",
      "    atanh(x, /)\n",
      "        Return the inverse hyperbolic tangent of x.\n",
      "    \n",
      "    ceil(x, /)\n",
      "        Return the ceiling of x as an Integral.\n",
      "        \n",
      "        This is the smallest integer >= x.\n",
      "    \n",
      "    copysign(x, y, /)\n",
      "        Return a float with the magnitude (absolute value) of x but the sign of y.\n",
      "        \n",
      "        On platforms that support signed zeros, copysign(1.0, -0.0)\n",
      "        returns -1.0.\n",
      "    \n",
      "    cos(x, /)\n",
      "        Return the cosine of x (measured in radians).\n",
      "    \n",
      "    cosh(x, /)\n",
      "        Return the hyperbolic cosine of x.\n",
      "    \n",
      "    degrees(x, /)\n",
      "        Convert angle x from radians to degrees.\n",
      "    \n",
      "    erf(x, /)\n",
      "        Error function at x.\n",
      "    \n",
      "    erfc(x, /)\n",
      "        Complementary error function at x.\n",
      "    \n",
      "    exp(x, /)\n",
      "        Return e raised to the power of x.\n",
      "    \n",
      "    expm1(x, /)\n",
      "        Return exp(x)-1.\n",
      "        \n",
      "        This function avoids the loss of precision involved in the direct evaluation of exp(x)-1 for small x.\n",
      "    \n",
      "    fabs(x, /)\n",
      "        Return the absolute value of the float x.\n",
      "    \n",
      "    factorial(x, /)\n",
      "        Find x!.\n",
      "        \n",
      "        Raise a ValueError if x is negative or non-integral.\n",
      "    \n",
      "    floor(x, /)\n",
      "        Return the floor of x as an Integral.\n",
      "        \n",
      "        This is the largest integer <= x.\n",
      "    \n",
      "    fmod(x, y, /)\n",
      "        Return fmod(x, y), according to platform C.\n",
      "        \n",
      "        x % y may differ.\n",
      "    \n",
      "    frexp(x, /)\n",
      "        Return the mantissa and exponent of x, as pair (m, e).\n",
      "        \n",
      "        m is a float and e is an int, such that x = m * 2.**e.\n",
      "        If x is 0, m and e are both 0.  Else 0.5 <= abs(m) < 1.0.\n",
      "    \n",
      "    fsum(seq, /)\n",
      "        Return an accurate floating point sum of values in the iterable seq.\n",
      "        \n",
      "        Assumes IEEE-754 floating point arithmetic.\n",
      "    \n",
      "    gamma(x, /)\n",
      "        Gamma function at x.\n",
      "    \n",
      "    gcd(x, y, /)\n",
      "        greatest common divisor of x and y\n",
      "    \n",
      "    hypot(x, y, /)\n",
      "        Return the Euclidean distance, sqrt(x*x + y*y).\n",
      "    \n",
      "    isclose(a, b, *, rel_tol=1e-09, abs_tol=0.0)\n",
      "        Determine whether two floating point numbers are close in value.\n",
      "        \n",
      "          rel_tol\n",
      "            maximum difference for being considered \"close\", relative to the\n",
      "            magnitude of the input values\n",
      "          abs_tol\n",
      "            maximum difference for being considered \"close\", regardless of the\n",
      "            magnitude of the input values\n",
      "        \n",
      "        Return True if a is close in value to b, and False otherwise.\n",
      "        \n",
      "        For the values to be considered close, the difference between them\n",
      "        must be smaller than at least one of the tolerances.\n",
      "        \n",
      "        -inf, inf and NaN behave similarly to the IEEE 754 Standard.  That\n",
      "        is, NaN is not close to anything, even itself.  inf and -inf are\n",
      "        only close to themselves.\n",
      "    \n",
      "    isfinite(x, /)\n",
      "        Return True if x is neither an infinity nor a NaN, and False otherwise.\n",
      "    \n",
      "    isinf(x, /)\n",
      "        Return True if x is a positive or negative infinity, and False otherwise.\n",
      "    \n",
      "    isnan(x, /)\n",
      "        Return True if x is a NaN (not a number), and False otherwise.\n",
      "    \n",
      "    ldexp(x, i, /)\n",
      "        Return x * (2**i).\n",
      "        \n",
      "        This is essentially the inverse of frexp().\n",
      "    \n",
      "    lgamma(x, /)\n",
      "        Natural logarithm of absolute value of Gamma function at x.\n",
      "    \n",
      "    log(...)\n",
      "        log(x, [base=math.e])\n",
      "        Return the logarithm of x to the given base.\n",
      "        \n",
      "        If the base not specified, returns the natural logarithm (base e) of x.\n",
      "    \n",
      "    log10(x, /)\n",
      "        Return the base 10 logarithm of x.\n",
      "    \n",
      "    log1p(x, /)\n",
      "        Return the natural logarithm of 1+x (base e).\n",
      "        \n",
      "        The result is computed in a way which is accurate for x near zero.\n",
      "    \n",
      "    log2(x, /)\n",
      "        Return the base 2 logarithm of x.\n",
      "    \n",
      "    modf(x, /)\n",
      "        Return the fractional and integer parts of x.\n",
      "        \n",
      "        Both results carry the sign of x and are floats.\n",
      "    \n",
      "    pow(x, y, /)\n",
      "        Return x**y (x to the power of y).\n",
      "    \n",
      "    radians(x, /)\n",
      "        Convert angle x from degrees to radians.\n",
      "    \n",
      "    remainder(x, y, /)\n",
      "        Difference between x and the closest integer multiple of y.\n",
      "        \n",
      "        Return x - n*y where n*y is the closest integer multiple of y.\n",
      "        In the case where x is exactly halfway between two multiples of\n",
      "        y, the nearest even value of n is used. The result is always exact.\n",
      "    \n",
      "    sin(x, /)\n",
      "        Return the sine of x (measured in radians).\n",
      "    \n",
      "    sinh(x, /)\n",
      "        Return the hyperbolic sine of x.\n",
      "    \n",
      "    sqrt(x, /)\n",
      "        Return the square root of x.\n",
      "    \n",
      "    tan(x, /)\n",
      "        Return the tangent of x (measured in radians).\n",
      "    \n",
      "    tanh(x, /)\n",
      "        Return the hyperbolic tangent of x.\n",
      "    \n",
      "    trunc(x, /)\n",
      "        Truncates the Real x to the nearest Integral toward 0.\n",
      "        \n",
      "        Uses the __trunc__ magic method.\n",
      "\n",
      "DATA\n",
      "    e = 2.718281828459045\n",
      "    inf = inf\n",
      "    nan = nan\n",
      "    pi = 3.141592653589793\n",
      "    tau = 6.283185307179586\n",
      "\n",
      "FILE\n",
      "    (built-in)\n",
      "\n",
      "\n"
     ]
    }
   ],
   "source": [
    "import math\n",
    "help(math)"
   ]
  },
  {
   "cell_type": "code",
   "execution_count": 6,
   "metadata": {},
   "outputs": [
    {
     "ename": "NameError",
     "evalue": "name 'plus' is not defined",
     "output_type": "error",
     "traceback": [
      "\u001b[1;31m---------------------------------------------------------------------------\u001b[0m",
      "\u001b[1;31mNameError\u001b[0m                                 Traceback (most recent call last)",
      "\u001b[1;32m<ipython-input-6-d976920622f2>\u001b[0m in \u001b[0;36m<module>\u001b[1;34m\u001b[0m\n\u001b[1;32m----> 1\u001b[1;33m \u001b[0mhelp\u001b[0m\u001b[1;33m(\u001b[0m\u001b[0mplus\u001b[0m\u001b[1;33m)\u001b[0m\u001b[1;33m\u001b[0m\u001b[1;33m\u001b[0m\u001b[0m\n\u001b[0m",
      "\u001b[1;31mNameError\u001b[0m: name 'plus' is not defined"
     ]
    }
   ],
   "source": [
    "# plus 함수를 만들어놓은 것이 없으므로 당연히 에러!\n",
    "help(plus)"
   ]
  },
  {
   "cell_type": "code",
   "execution_count": 9,
   "metadata": {},
   "outputs": [
    {
     "name": "stdout",
     "output_type": "stream",
     "text": [
      "Help on function plus in module __main__:\n",
      "\n",
      "plus(a, b)\n",
      "    a와 b를 더한다.\n",
      "\n"
     ]
    }
   ],
   "source": [
    "def plus(a, b):\n",
    "    return a + b\n",
    "\n",
    "# 언더바 1개가 아닌 2개!\n",
    "plus.__doc__ = \"a와 b를 더한다.\"\n",
    "help(plus)"
   ]
  },
  {
   "cell_type": "code",
   "execution_count": 14,
   "metadata": {},
   "outputs": [
    {
     "name": "stdout",
     "output_type": "stream",
     "text": [
      "Help on function factorial in module __main__:\n",
      "\n",
      "factorial(n)\n",
      "    n! 을 구하는 함수다.\n",
      "    감마 함수가 적용되지 않아\n",
      "    1.1!, 1.3! 등은 구할 수 없다.\n",
      "    또한 값은 0 보다 크거나 같은 정수여야 한다.\n",
      "\n"
     ]
    }
   ],
   "source": [
    "def factorial(n):\n",
    "    \"\"\"n! 을 구하는 함수다.\n",
    "    감마 함수가 적용되지 않아\n",
    "    1.1!, 1.3! 등은 구할 수 없다.\n",
    "    또한 값은 0 보다 크거나 같은 정수여야 한다.\n",
    "    \"\"\"\n",
    "    if x < 0:\n",
    "        print(\"Error!\")\n",
    "    elif x <= 1:\n",
    "        return 1\n",
    "    \n",
    "    return x * factorial(x - 1)\n",
    "\n",
    "help(factorial)"
   ]
  },
  {
   "cell_type": "code",
   "execution_count": 16,
   "metadata": {},
   "outputs": [
    {
     "name": "stdout",
     "output_type": "stream",
     "text": [
      "i 2\n",
      "i 4\n",
      "i 6\n",
      "i 8\n",
      "i 10\n",
      "i 12\n",
      "i 14\n",
      "i 16\n",
      "i 18\n",
      "i 20\n",
      "i 22\n",
      "i 24\n",
      "i 26\n",
      "i 28\n",
      "i 30\n",
      "i 32\n",
      "i 34\n",
      "i 36\n",
      "i 38\n",
      "i 40\n",
      "i 42\n",
      "i 44\n",
      "i 46\n",
      "i 48\n",
      "i 50\n",
      "i 52\n",
      "i 54\n",
      "i 56\n",
      "i 58\n",
      "i 60\n",
      "i 62\n",
      "i 64\n",
      "i 66\n",
      "i 68\n",
      "i 70\n",
      "i 72\n",
      "i 74\n",
      "i 76\n",
      "i 78\n",
      "i 80\n",
      "i 82\n",
      "i 84\n",
      "i 86\n",
      "i 88\n",
      "i 90\n",
      "i 92\n",
      "i 94\n",
      "i 96\n",
      "i 98\n",
      "i 100\n"
     ]
    }
   ],
   "source": [
    "# 문제 1.\n",
    "# 1 ~ 100까지 숫자중 2의 배수만 출력해보시오.\n",
    "# 자바 스타일\n",
    "\n",
    "for i in range(1, 101):\n",
    "    # not(i % 2)\n",
    "    if not(i % 2):\n",
    "        print(\"i\", i)"
   ]
  },
  {
   "cell_type": "code",
   "execution_count": 18,
   "metadata": {},
   "outputs": [
    {
     "name": "stdout",
     "output_type": "stream",
     "text": [
      "2\n",
      "4\n",
      "6\n",
      "8\n",
      "10\n",
      "12\n",
      "14\n",
      "16\n",
      "18\n",
      "20\n",
      "22\n",
      "24\n",
      "26\n",
      "28\n",
      "30\n",
      "32\n",
      "34\n",
      "36\n",
      "38\n",
      "40\n",
      "42\n",
      "44\n",
      "46\n",
      "48\n",
      "50\n",
      "52\n",
      "54\n",
      "56\n",
      "58\n",
      "60\n",
      "62\n",
      "64\n",
      "66\n",
      "68\n",
      "70\n",
      "72\n",
      "74\n",
      "76\n",
      "78\n",
      "80\n",
      "82\n",
      "84\n",
      "86\n",
      "88\n",
      "90\n",
      "92\n",
      "94\n",
      "96\n",
      "98\n",
      "100\n"
     ]
    }
   ],
   "source": [
    "# 파이썬 스타일\n",
    "for i in range(2, 101, 2):\n",
    "    print(i)"
   ]
  },
  {
   "cell_type": "code",
   "execution_count": 23,
   "metadata": {},
   "outputs": [
    {
     "name": "stdout",
     "output_type": "stream",
     "text": [
      "[0.  0.5 1.  1.5 2.  2.5 3.  3.5 4.  4.5 5. ]\n"
     ]
    },
    {
     "name": "stderr",
     "output_type": "stream",
     "text": [
      "C:\\Users\\bit\\anaconda3\\lib\\site-packages\\ipykernel_launcher.py:41: UserWarning: Matplotlib is currently using module://ipykernel.pylab.backend_inline, which is a non-GUI backend, so cannot show the figure.\n"
     ]
    },
    {
     "data": {
      "image/png": "[encoded data removed]",
      "text/plain": [
       "<Figure size 432x180 with 1 Axes>"
      ]
     },
     "metadata": {
      "needs_background": "light"
     },
     "output_type": "display_data"
    }
   ],
   "source": [
    "# numpy - Numerical Python - 수치해석을 위한 라이브러리\n",
    "import numpy as np\n",
    "# matplotlib - 그래프 그리는 라이브러리\n",
    "import matplotlib.pyplot as plt\n",
    "\n",
    "# np.linspace - np 라이브러리 내부에 있는 linspace 매서드\n",
    "# linspace - Linear Space의 약자\n",
    "# 증가폭이 일정한 값으로 0 ~ 5 사이의 숫자를 1001개 생성해달라\n",
    "# 파라미터 첫번째 시작값(포함), 두번째 끝값(포함), 세번째 개수\n",
    "# 그렇기 때문에 각 숫자간의 간격이 0.005\n",
    "\n",
    "# 1001개라는 개수를 샘플 개수\n",
    "# 샘플의 개수가 부족하면 그래프가 깨지게 된다.\n",
    "# 그래프를 그릴때는 원하는 형태를 유지할 수 있도록\n",
    "# 최소한의 샘플 수를 유지하도록 한다.\n",
    "t = np.linspace(0, 5, 1001)\n",
    "#print(t)\n",
    "\n",
    "# y = 2 cos(10 * t)\n",
    "# 진폭(amplitude) = 2\n",
    "# 주기(period) = 주파수와 역수 관계\n",
    "# 주파수(frequency) = 주기와 역수 관계\n",
    "# 2 * pi * f * t = w * t\n",
    "# w = 10\n",
    "# 2 * pi * f = 10\n",
    "# f = 10 / 2pi\n",
    "# T(주기) = 2pi / 10\n",
    "x1 = 2 * np.cos(10 * t)\n",
    "# plt.subplots()은 그래프를 폼을 만듬\n",
    "# figsize = (6, 2.5)의 크기로 만듬\n",
    "fig, ax = plt.subplots(figsize = (6, 2.5))\n",
    "# 시간(t)에 따른 cos 함수의 위치(x1)를 찍어보자!\n",
    "ax.plot(t, x1)\n",
    "# 그래프 상에서 x의 범위는 0 ~ 5 까지\n",
    "ax.set_xlim(0, 5)\n",
    "# x축의 라벨에 t(초)를 표기한다.\n",
    "ax.set_xlabel('t(sec)')\n",
    "# 여기는 어떤 수식에 대한 그래프인지 표기해주는 부분\n",
    "# 앞뒤에 반드시 $를 표시해주도록 한다.\n",
    "# 또한 x_1 (x 아래첨자 1)\n",
    "# 숫자와 cos등을 결합할때는 \\ 표시를 넣어주도록 한다.\n",
    "ax.set_title('$x_1(t) = 2\\cos(10t)$')\n",
    "# 화면상에 그래프가 보여진다.\n",
    "fig.show()"
   ]
  },
  {
   "cell_type": "code",
   "execution_count": 27,
   "metadata": {},
   "outputs": [
    {
     "name": "stderr",
     "output_type": "stream",
     "text": [
      "C:\\Users\\bit\\anaconda3\\lib\\site-packages\\ipykernel_launcher.py:13: UserWarning: Matplotlib is currently using module://ipykernel.pylab.backend_inline, which is a non-GUI backend, so cannot show the figure.\n",
      "  del sys.path[0]\n"
     ]
    },
    {
     "data": {
      "image/png": "[encoded data removed]",
      "text/plain": [
       "<Figure size 216x216 with 1 Axes>"
      ]
     },
     "metadata": {
      "needs_background": "light"
     },
     "output_type": "display_data"
    }
   ],
   "source": [
    "# y = x를 그려보자 ~\n",
    "import numpy as np\n",
    "import matplotlib.pyplot as plt\n",
    "\n",
    "x = np.linspace(0, 3, 1001)\n",
    "y = x\n",
    "\n",
    "fig, ax = plt.subplots(figsize = (3, 3))\n",
    "ax.plot(x, y)\n",
    "ax.set_xlim(0, 4)\n",
    "ax.set_ylim(0, 4)\n",
    "ax.set_title('$y = x$')\n",
    "fig.show()"
   ]
  },
  {
   "cell_type": "code",
   "execution_count": 31,
   "metadata": {},
   "outputs": [
    {
     "name": "stdout",
     "output_type": "stream",
     "text": [
      "Help on method randrange in module random:\n",
      "\n",
      "randrange(start, stop=None, step=1, _int=<class 'int'>) method of random.Random instance\n",
      "    Choose a random item from range(start, stop[, step]).\n",
      "    \n",
      "    This fixes the problem with randint() which includes the\n",
      "    endpoint; in Python this is usually not what you want.\n",
      "\n"
     ]
    }
   ],
   "source": [
    "# 랜덤을 먼저 보자 ~\n",
    "import random\n",
    "\n",
    "help(random.randrange)"
   ]
  },
  {
   "cell_type": "code",
   "execution_count": 56,
   "metadata": {},
   "outputs": [
    {
     "name": "stdout",
     "output_type": "stream",
     "text": [
      "3\n",
      "4\n",
      "6\n",
      "4\n",
      "1\n"
     ]
    }
   ],
   "source": [
    "# 랜덤값을 생성하기 위해 추가해야하는 라이브러리\n",
    "# import java.util.Scanner\n",
    "import random\n",
    "\n",
    "cnt = 0\n",
    "\n",
    "while cnt < 5:\n",
    "    # randrange(시작값(포함), 끝값(포함 x))\n",
    "    # 위의 값 사이에서 랜덤값을 뽑아온다.\n",
    "    # 1 ~ 6 사이의 랜덤값\n",
    "    x = random.randrange(1, 7)\n",
    "    print(x)\n",
    "    cnt += 1"
   ]
  },
  {
   "cell_type": "code",
   "execution_count": 59,
   "metadata": {},
   "outputs": [
    {
     "name": "stdout",
     "output_type": "stream",
     "text": [
      "5.0\n",
      "5.0\n",
      "5.0\n"
     ]
    }
   ],
   "source": [
    "# 수학 라이브러리 필요!\n",
    "import math\n",
    "# 직삼각형의 대각선 길이를 구해보자!\n",
    "width = 3\n",
    "height = 4\n",
    "\n",
    "# 피타고라스 정리: 대각선 길이 = 루트 (밑변^2 + 높이^2)\n",
    "# sqrt = Square Root(제곱근 = 루트)\n",
    "diag = math.sqrt(width * width + height * height)\n",
    "print(diag)\n",
    "\n",
    "# 계산공식이 명확한 경우\n",
    "diag = math.sqrt(width ** 2 + height ** 2)\n",
    "print(diag)\n",
    "\n",
    "# 계산공식이 정해지지 않고 와리가리 칠때\n",
    "diag = math.sqrt(math.pow(width, 2) + math.pow(height, 2))\n",
    "print(diag)"
   ]
  },
  {
   "cell_type": "code",
   "execution_count": 105,
   "metadata": {},
   "outputs": [
    {
     "name": "stdout",
     "output_type": "stream",
     "text": [
      "x = [8, 4, 5, 10, 2, 6, 3]\n",
      "y = [10, 3, 3, 7, 9, 7, 1]\n",
      "distance = [5.830951894845301, 2.23606797749979, 2.0, 5.385164807134504, 5.0, 2.23606797749979, 4.47213595499958]\n",
      "None\n",
      "distance =\n",
      "2.00\n",
      "2.24\n",
      "2.24\n",
      "4.47\n",
      "5.00\n",
      "5.39\n",
      "5.83\n",
      "Most Better Solution = 2.00\n"
     ]
    }
   ],
   "source": [
    "# 현재 우리가 있는 위치를 2D 좌표상 (5, 5) 라고 가정한다.\n",
    "# (실제 지도에서 3D 좌표로 고려해야겠지만 편의를 위해 2D로 진행한다)\n",
    "# 랜덤 좌표 7개를 생성한다.\n",
    "# 해당 랜덤 좌표는 주유소에 해당한다.\n",
    "# 현재 차량에 기름이 없다.\n",
    "# 어떻게 하면 가장 빨리 주유소에 도달하여 주유를 할 수 있을까 ?\n",
    "# (랜덤값은 1 ~ 10)\n",
    "\n",
    "import math\n",
    "import random\n",
    "\n",
    "myloc = [5, 5]   # [x, y]\n",
    "distance = []\n",
    "x = []\n",
    "y = []\n",
    "\n",
    "def assignRandXY():\n",
    "    #i = 0\n",
    "    #while i < 7:\n",
    "    #    x.append(random.randrange(1, 11))\n",
    "    #    y.append(random.randrange(1, 11))\n",
    "    #    i += 1\n",
    "    for _ in range(7):\n",
    "        x.append(random.randrange(1, 11))\n",
    "        y.append(random.randrange(1, 11))\n",
    "\n",
    "def calculateDistance():\n",
    "    for idx in range(7):\n",
    "        distance.append(\n",
    "            math.sqrt(\n",
    "                (myloc[0] - x[idx]) ** 2 + \n",
    "                (myloc[1] - y[idx]) ** 2\n",
    "            )\n",
    "        )\n",
    "\n",
    "def findBetterSolution():\n",
    "    distance.sort()\n",
    "    #print(\"distance =\", distance)\n",
    "    return distance[0]\n",
    "\n",
    "def prettyPrint(myList):\n",
    "    #print(len(myList))\n",
    "    for idx in range(len(myList)):\n",
    "        print(\"%.2f\" % myList[idx])\n",
    "\n",
    "assignRandXY()\n",
    "\n",
    "print(\"x =\", x)\n",
    "print(\"y =\", y)\n",
    "\n",
    "calculateDistance()\n",
    "print(\"distance =\", distance)\n",
    "#print(\"Most Better Solution:\", findBetterSolution())]\n",
    "print(\"distance =\")\n",
    "prettyPrint(distance)\n",
    "print(\"Most Better Solution = %.2f\" % findBetterSolution())"
   ]
  },
  {
   "cell_type": "code",
   "execution_count": 106,
   "metadata": {},
   "outputs": [
    {
     "data": {
      "image/png": "[encoded data removed]",
      "text/plain": [
       "<Figure size 432x288 with 1 Axes>"
      ]
     },
     "metadata": {
      "needs_background": "light"
     },
     "output_type": "display_data"
    }
   ],
   "source": [
    "from numpy import linspace, sqrt\n",
    "import matplotlib.pyplot as plt\n",
    "\n",
    "x = linspace(-1, 5, 400)\n",
    "y = 1.0 / sqrt(x ** 2 + 1)\n",
    "\n",
    "# subplot(figsize = ~~~) 같은 부분없이\n",
    "# 단순히 plt.plot()으로도 그래프를 그릴 수 있다.\n",
    "# 단 그래프 크기 조정이 불가능하다.\n",
    "plt.plot(x, y)\n",
    "plt.show()"
   ]
  },
  {
   "cell_type": "code",
   "execution_count": 111,
   "metadata": {},
   "outputs": [
    {
     "data": {
      "image/png": "[encoded data removed]",
      "text/plain": [
       "<Figure size 432x288 with 1 Axes>"
      ]
     },
     "metadata": {
      "needs_background": "light"
     },
     "output_type": "display_data"
    }
   ],
   "source": [
    "from numpy import linspace, sqrt\n",
    "import matplotlib.pyplot as plt\n",
    "\n",
    "x = linspace(-1, 5, 50)\n",
    "y1 = 1.0 / sqrt(x ** 2 + 1)\n",
    "y2 = 1.0 / sqrt(3 * x ** 2 + 1)\n",
    "\n",
    "# 아무런 옵션이 없으면 실선\n",
    "plt.plot(x, y1, label = 'plot 1')\n",
    "# 아래와 같이 '--'이 있다면 점선\n",
    "plt.plot(x, y2, '--', label = 'plot 2')\n",
    "# plt.legend()면 plot 1과 plot 2가 각각 어떤것인지 지표가 붙음\n",
    "plt.legend()\n",
    "plt.show()"
   ]
  },
  {
   "cell_type": "code",
   "execution_count": 117,
   "metadata": {},
   "outputs": [
    {
     "name": "stdout",
     "output_type": "stream",
     "text": [
      "<class 'numpy.ndarray'>\n"
     ]
    },
    {
     "data": {
      "image/png": "[encoded data removed]",
      "text/plain": [
       "<Figure size 432x288 with 1 Axes>"
      ]
     },
     "metadata": {
      "needs_background": "light"
     },
     "output_type": "display_data"
    }
   ],
   "source": [
    "from numpy import array\n",
    "import matplotlib.pyplot as plt\n",
    "\n",
    "# numpy에 있는 array 기능으로 값들을 쭉 담아넣는 구조\n",
    "x = array([0,   1,   3,   7,  8,  10])\n",
    "y = array([1.1, 2.2, 3.8, -1.5, 1.6, 5])\n",
    "# numpy.ndarray(수치해석용 배열)\n",
    "print(type(x))\n",
    "\n",
    "# (x, y) 좌표에 동그라미로 포인트 주기\n",
    "plt.plot(x, y, 'o-')\n",
    "plt.xlabel('x')\n",
    "plt.ylabel('y')\n",
    "plt.show()"
   ]
  },
  {
   "cell_type": "code",
   "execution_count": 131,
   "metadata": {},
   "outputs": [
    {
     "data": {
      "image/png": "[encoded data removed]",
      "text/plain": [
       "<Figure size 432x288 with 1 Axes>"
      ]
     },
     "metadata": {
      "needs_background": "light"
     },
     "output_type": "display_data"
    },
    {
     "name": "stdout",
     "output_type": "stream",
     "text": [
      "x^2의 0 ~ 3까지 정적분 결과 = 8.999999549999458\n"
     ]
    }
   ],
   "source": [
    "import numpy as np\n",
    "import matplotlib.pyplot as plt\n",
    "\n",
    "x = linspace(-3, 4, 1000)\n",
    "y = x ** 2\n",
    "\n",
    "plt.plot(x, y)\n",
    "plt.show()\n",
    "\n",
    "# x^2에 대한 0 ~ 3 까지의 정적분 구현\n",
    "# 1. 컴퓨터는 limit 개념을 구현할 방법이 없다.\n",
    "# 2. 그렇기 때문에 0에 근접한 값을 만들 수가 없고\n",
    "#    대신 아주 작은 미소값 dx의 개념을 활용해야 한다.\n",
    "# 3. y = x^2 를 구한다 할 때 각각의 0 ~ 3 사이의 x값들을 먼저 산출해야한다.\n",
    "# 4. dx(고정) * y(고정 x) - 작은 사각형의 넓이\n",
    "# 5. 구한 작은 사각형들의 넓이를 모두 더했을때\n",
    "#    9에 근접한 값이 나오는 것을 확인하면 된다.\n",
    "\n",
    "dx = 0.0000001\n",
    "y = []\n",
    "\n",
    "# 면적을 return\n",
    "# x^2을 0 ~ 3 까지 -> 1/3 x^3 = 9\n",
    "def integralRange(start, end):\n",
    "    loopNum = (int)((end - start) / dx + 1)\n",
    "    #print(loopNum)\n",
    "    area = 0\n",
    "    \n",
    "    for i in range(loopNum - 1):\n",
    "        curX = dx * i\n",
    "        #print(curX)\n",
    "        #y.append(curX ** 2)\n",
    "        area += dx * (curX ** 2)\n",
    "        \n",
    "    return area;\n",
    "\n",
    "area = integralRange(0, 3)\n",
    "#print(y)\n",
    "print(\"x^2의 0 ~ 3까지 정적분 결과 =\", area)"
   ]
  },
  {
   "cell_type": "code",
   "execution_count": null,
   "metadata": {},
   "outputs": [],
   "source": [
    "# 조급할 필요 없음\n",
    "# 어차피 전세계의 모든 사람은 수학을 싫어한다.\n",
    "# 이과 나와도 똑같다.\n",
    "# 누가 오래 비비냐 승부\n",
    "# 실제 적분은 limit dx -> 0 \n",
    "dx = 0.000000001\n",
    "\n",
    "def integralRange(start, end):\n",
    "    loopNum = (int)((end - start) / dx + 1)\n",
    "    area = 0\n",
    "    // 0 ~ loopNum - 2\n",
    "    for i in range(loopNum - 1):\n",
    "        curX = dx * i               # current X\n",
    "        area += dx * (curX ** 2)\n",
    "        \n",
    "    return area;\n",
    "\n",
    "area = integralRange(0, 3)\n",
    "print(\"x^2의 0 ~ 3까지 정적분 결과 =\", area)"
   ]
  }
 ],
 "metadata": {
  "kernelspec": {
   "display_name": "Python 3",
   "language": "python",
   "name": "python3"
  },
  "language_info": {
   "codemirror_mode": {
    "name": "ipython",
    "version": 3
   },
   "file_extension": ".py",
   "mimetype": "text/x-python",
   "name": "python",
   "nbconvert_exporter": "python",
   "pygments_lexer": "ipython3",
   "version": "3.7.6"
  }
 },
 "nbformat": 4,
 "nbformat_minor": 4
}
