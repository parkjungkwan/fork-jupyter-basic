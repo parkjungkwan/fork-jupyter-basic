{
 "cells": [
  {
   "cell_type": "code",
   "execution_count": 9,
   "metadata": {},
   "outputs": [],
   "source": [
    "def countDown(x):\n",
    "    while True:\n",
    "        if x == 0:\n",
    "            break\n",
    "            \n",
    "        print(\"CountDown ... %d\" % x)\n",
    "        x -= 1\n",
    "        time.sleep(1)\n",
    "\n",
    "        \n",
    "p = multiprocessing.Process(target=countDown, args=(5, ))\n",
    "p.start()"
   ]
  },
  {
   "cell_type": "code",
   "execution_count": 2,
   "metadata": {},
   "outputs": [
    {
     "name": "stdout",
     "output_type": "stream",
     "text": [
      "Main Thread ...\n",
      "Main Thread ...\n"
     ]
    },
    {
     "ename": "KeyboardInterrupt",
     "evalue": "",
     "output_type": "error",
     "traceback": [
      "\u001b[1;31m---------------------------------------------------------------------------\u001b[0m",
      "\u001b[1;31mKeyboardInterrupt\u001b[0m                         Traceback (most recent call last)",
      "\u001b[1;32m<ipython-input-2-b41580dc9e8d>\u001b[0m in \u001b[0;36m<module>\u001b[1;34m\u001b[0m\n\u001b[0;32m     30\u001b[0m     \u001b[1;31m# Main Thread를 부모 프로세스로 보면 되겠다.\u001b[0m\u001b[1;33m\u001b[0m\u001b[1;33m\u001b[0m\u001b[1;33m\u001b[0m\u001b[0m\n\u001b[0;32m     31\u001b[0m     \u001b[0mprint\u001b[0m\u001b[1;33m(\u001b[0m\u001b[1;34m\"Main Thread ...\"\u001b[0m\u001b[1;33m)\u001b[0m\u001b[1;33m\u001b[0m\u001b[1;33m\u001b[0m\u001b[0m\n\u001b[1;32m---> 32\u001b[1;33m     \u001b[0mtime\u001b[0m\u001b[1;33m.\u001b[0m\u001b[0msleep\u001b[0m\u001b[1;33m(\u001b[0m\u001b[1;36m1\u001b[0m\u001b[1;33m)\u001b[0m\u001b[1;33m\u001b[0m\u001b[1;33m\u001b[0m\u001b[0m\n\u001b[0m",
      "\u001b[1;31mKeyboardInterrupt\u001b[0m: "
     ]
    }
   ],
   "source": [
    "import time\n",
    "import multiprocessing\n",
    "\n",
    "# 우리가 프로세스로 만드려고 하는 함수\n",
    "def process(msg, interval):\n",
    "    while True:\n",
    "        print(\"I'm working ...: %s\" % msg)\n",
    "        time.sleep(interval)\n",
    "        \n",
    "# 프로세스로 동작할 녀석이 process 함수임을 target으로 알려준다.\n",
    "# 그리고 msg와 interval에 인자(파라미터)를 전달한다.\n",
    "# msg = \"pX\", interval은 대기 시간\n",
    "# 전부 부모 프로세스의 자식 프로세스들\n",
    "p1 = multiprocessing.Process(target=process, args=(\"p1\", 1, ))\n",
    "p2 = multiprocessing.Process(target=process, args=(\"p2\", 3, ))\n",
    "p3 = multiprocessing.Process(target=process, args=(\"p3\", 5, ))\n",
    "p4 = multiprocessing.Process(target=process, args=(\"p4\", 2, ))\n",
    "\n",
    "# 실제 구동은 여기서 시작된다.\n",
    "p1.start()\n",
    "p2.start()\n",
    "p3.start()\n",
    "p4.start()\n",
    "\n",
    "cnt = 0\n",
    "\n",
    "# 루프를 10번 돌면서 1초마다 Main Thread를 출력한다.\n",
    "while cnt < 10:\n",
    "    cnt += 1\n",
    "    # Main Thread를 부모 프로세스로 보면 되겠다.\n",
    "    print(\"Main Thread ...\")\n",
    "    time.sleep(1)"
   ]
  },
  {
   "cell_type": "code",
   "execution_count": 3,
   "metadata": {},
   "outputs": [
    {
     "name": "stdout",
     "output_type": "stream",
     "text": [
      "Final Balance = 20000\n",
      "Final Balance = 20000\n",
      "Final Balance = 20000\n",
      "Final Balance = 20000\n",
      "Final Balance = 20000\n",
      "Final Balance = 20000\n",
      "Final Balance = 20000\n",
      "Final Balance = 20000\n",
      "Final Balance = 20000\n",
      "Final Balance = 20000\n"
     ]
    }
   ],
   "source": [
    "import multiprocessing\n",
    "\n",
    "def withdraw(balance):\n",
    "    for _ in range(20000):\n",
    "        balance.value -= 1\n",
    "        \n",
    "def deposit(balance):\n",
    "    for _ in range(20000):\n",
    "        balance.value += 1\n",
    "        \n",
    "def perform_transaction():\n",
    "    balance = multiprocessing.Value('i', 20000)\n",
    "    \n",
    "    p1 = multiprocessing.Process(target=withdraw, args=(balance, ))\n",
    "    p2 = multiprocessing.Process(target=deposit, args=(balance, ))\n",
    "    \n",
    "    p1.start()\n",
    "    p2.start()\n",
    "    \n",
    "    p1.join()\n",
    "    p2.join()\n",
    "    \n",
    "    print(\"Final Balance = {}\".format(balance.value))\n",
    "    \n",
    "for _ in range(10):\n",
    "    perform_transaction()"
   ]
  },
  {
   "cell_type": "code",
   "execution_count": 4,
   "metadata": {},
   "outputs": [
    {
     "name": "stdout",
     "output_type": "stream",
     "text": [
      "Final Balance = 20000\n",
      "Final Balance = 20000\n",
      "Final Balance = 20000\n",
      "Final Balance = 20000\n",
      "Final Balance = 20000\n",
      "Final Balance = 20000\n",
      "Final Balance = 20000\n",
      "Final Balance = 20000\n",
      "Final Balance = 20000\n",
      "Final Balance = 20000\n"
     ]
    }
   ],
   "source": [
    "import multiprocessing\n",
    "\n",
    "def withdraw(balance, lock):\n",
    "    for _ in range(20000):\n",
    "        lock.acquire()   # lock을 획득한다.\n",
    "        balance.value -= 1\n",
    "        lock.release()   # lock을 해제한다.\n",
    "        \n",
    "def deposit(balance, lock):\n",
    "    for _ in range(20000):\n",
    "        lock.acquire()\n",
    "        balance.value += 1\n",
    "        lock.release()\n",
    "        \n",
    "def perform_transaction():\n",
    "    balance = multiprocessing.Value('i', 20000)\n",
    "    \n",
    "    # 스핀락을 만들때 아래와 같이 만든다.\n",
    "    lock = multiprocessing.Lock()\n",
    "    \n",
    "    p1 = multiprocessing.Process(target=withdraw, args=(balance, lock, ))\n",
    "    p2 = multiprocessing.Process(target=deposit, args=(balance, lock, ))\n",
    "    \n",
    "    p1.start()\n",
    "    p2.start()\n",
    "    \n",
    "    p1.join()\n",
    "    p2.join()\n",
    "    \n",
    "    print(\"Final Balance = {}\".format(balance.value))\n",
    "    \n",
    "for _ in range(10):\n",
    "    perform_transaction()"
   ]
  },
  {
   "cell_type": "code",
   "execution_count": 5,
   "metadata": {},
   "outputs": [
    {
     "ename": "TimeoutError",
     "evalue": "",
     "output_type": "error",
     "traceback": [
      "\u001b[1;31m---------------------------------------------------------------------------\u001b[0m",
      "\u001b[1;31mTimeoutError\u001b[0m                              Traceback (most recent call last)",
      "\u001b[1;32m<ipython-input-5-999d083871af>\u001b[0m in \u001b[0;36m<module>\u001b[1;34m\u001b[0m\n\u001b[0;32m     10\u001b[0m \u001b[1;33m\u001b[0m\u001b[0m\n\u001b[0;32m     11\u001b[0m \u001b[0mres\u001b[0m \u001b[1;33m=\u001b[0m \u001b[0mpool\u001b[0m\u001b[1;33m.\u001b[0m\u001b[0mapply_async\u001b[0m\u001b[1;33m(\u001b[0m\u001b[0mf\u001b[0m\u001b[1;33m,\u001b[0m \u001b[1;33m(\u001b[0m\u001b[1;36m10\u001b[0m\u001b[1;33m,\u001b[0m \u001b[1;33m)\u001b[0m\u001b[1;33m)\u001b[0m\u001b[1;33m\u001b[0m\u001b[1;33m\u001b[0m\u001b[0m\n\u001b[1;32m---> 12\u001b[1;33m \u001b[0mprint\u001b[0m\u001b[1;33m(\u001b[0m\u001b[0mres\u001b[0m\u001b[1;33m.\u001b[0m\u001b[0mget\u001b[0m\u001b[1;33m(\u001b[0m\u001b[0mtimeout\u001b[0m \u001b[1;33m=\u001b[0m \u001b[1;36m1\u001b[0m\u001b[1;33m)\u001b[0m\u001b[1;33m)\u001b[0m\u001b[1;33m\u001b[0m\u001b[1;33m\u001b[0m\u001b[0m\n\u001b[0m\u001b[0;32m     13\u001b[0m \u001b[1;33m\u001b[0m\u001b[0m\n\u001b[0;32m     14\u001b[0m \u001b[0mprint\u001b[0m\u001b[1;33m(\u001b[0m\u001b[0mpool\u001b[0m\u001b[1;33m.\u001b[0m\u001b[0mmap\u001b[0m\u001b[1;33m(\u001b[0m\u001b[0mf\u001b[0m\u001b[1;33m,\u001b[0m \u001b[0mrange\u001b[0m\u001b[1;33m(\u001b[0m\u001b[1;36m10\u001b[0m\u001b[1;33m)\u001b[0m\u001b[1;33m)\u001b[0m\u001b[1;33m)\u001b[0m\u001b[1;33m\u001b[0m\u001b[1;33m\u001b[0m\u001b[0m\n",
      "\u001b[1;32m~\\anaconda3\\lib\\multiprocessing\\pool.py\u001b[0m in \u001b[0;36mget\u001b[1;34m(self, timeout)\u001b[0m\n\u001b[0;32m    651\u001b[0m         \u001b[0mself\u001b[0m\u001b[1;33m.\u001b[0m\u001b[0mwait\u001b[0m\u001b[1;33m(\u001b[0m\u001b[0mtimeout\u001b[0m\u001b[1;33m)\u001b[0m\u001b[1;33m\u001b[0m\u001b[1;33m\u001b[0m\u001b[0m\n\u001b[0;32m    652\u001b[0m         \u001b[1;32mif\u001b[0m \u001b[1;32mnot\u001b[0m \u001b[0mself\u001b[0m\u001b[1;33m.\u001b[0m\u001b[0mready\u001b[0m\u001b[1;33m(\u001b[0m\u001b[1;33m)\u001b[0m\u001b[1;33m:\u001b[0m\u001b[1;33m\u001b[0m\u001b[1;33m\u001b[0m\u001b[0m\n\u001b[1;32m--> 653\u001b[1;33m             \u001b[1;32mraise\u001b[0m \u001b[0mTimeoutError\u001b[0m\u001b[1;33m\u001b[0m\u001b[1;33m\u001b[0m\u001b[0m\n\u001b[0m\u001b[0;32m    654\u001b[0m         \u001b[1;32mif\u001b[0m \u001b[0mself\u001b[0m\u001b[1;33m.\u001b[0m\u001b[0m_success\u001b[0m\u001b[1;33m:\u001b[0m\u001b[1;33m\u001b[0m\u001b[1;33m\u001b[0m\u001b[0m\n\u001b[0;32m    655\u001b[0m             \u001b[1;32mreturn\u001b[0m \u001b[0mself\u001b[0m\u001b[1;33m.\u001b[0m\u001b[0m_value\u001b[0m\u001b[1;33m\u001b[0m\u001b[1;33m\u001b[0m\u001b[0m\n",
      "\u001b[1;31mTimeoutError\u001b[0m: "
     ]
    }
   ],
   "source": [
    "import time\n",
    "from multiprocessing import Pool\n",
    "\n",
    "def f(x):\n",
    "    return x * x\n",
    "\n",
    "\n",
    "# Pool은 병렬화 시킬 프로세스를 몇 개 만들지 지정한다.\n",
    "# processes = 4는 프로세스를 4개 만든다는 의미다.\n",
    "pool = Pool(processes = 4)\n",
    "\n",
    "# 현재 시간을 구해서 t에 저장\n",
    "t = time.mktime(time.localtime())\n",
    "\n",
    "# Async: Asynchronous(비동기 처리)를 의미한다.\n",
    "# 비동기 처리와 동기 처리의 차이는 ?\n",
    "# 비동기는 일단 싹 다 질러놓고 상황 대응은 다음\n",
    "# 동기는 반드시 상호간의 협약(암묵적이던 명시적이던)이 필요하다.\n",
    "\n",
    "# apply_async도 람다 방식으로\n",
    "# f 에 1000000개를 연산할 수 있도록 준비한다.\n",
    "# 여기서 만든 개수 / 프로세스 숫자만큼\n",
    "# 처리할 데이터의 개수를 분배하게 된다.\n",
    "# 그래서 아래쪽 실제 map을 활용해서 람다 처리를 한다.\n",
    "res = pool.apply_async(f, (1000000, ))\n",
    "print(pool.map(f, range(1000000)))\n",
    "# 모든 처리가 끝났으니 걸린 시간을 t1에 저장한다.\n",
    "t1 = time.mktime(time.localtime()) - t\n",
    "\n",
    "t = time.mktime(time.localtime())\n",
    "\n",
    "# 여기서는 단순히 그냥 for문으로 쭉 돌린다.\n",
    "# 단순히 for문만 사용하면 병렬처리가 되지 않는다.\n",
    "for i in range(1000000):\n",
    "    print(i * i)\n",
    "\n",
    "\n",
    "t2 = time.mktime(time.localtime()) - t\n",
    "\n",
    "# 왜 성능차이가 4 배 나지 않나요 ?\n",
    "# 프로세스를 4개 생성하는데 추가적인 시간이 들어가므로\n",
    "# 프로세스 생성시간을 제외한 3.x 배 정도의 성능이 최대다.\n",
    "print(\"t1 =\", t1)\n",
    "print(\"t2 =\", t2)"
   ]
  },
  {
   "cell_type": "code",
   "execution_count": null,
   "metadata": {},
   "outputs": [],
   "source": [
    "import time\n",
    "from multiprocessing import Pool\n",
    "\n",
    "def f(x):\n",
    "    return x * x\n",
    "    \n",
    "pool = Pool(processes = 4)\n",
    "\n",
    "res = pool.apply_async(f, (10, ))\n",
    "print(pool.map(f, range(10)))\n",
    "it = pool.imap(f, range(10))\n",
    "print(it.next())\n",
    "print(it.next())\n",
    "print(it.next())"
   ]
  },
  {
   "cell_type": "code",
   "execution_count": null,
   "metadata": {},
   "outputs": [],
   "source": [
    "# Thread를 사용하기 위한 라이브러리\n",
    "import threading\n",
    "\n",
    "x = 0\n",
    "lock = multiprocessing.Lock()\n",
    "\n",
    "# 값을 하나씩 더한다.\n",
    "def inc_glob():\n",
    "    global x\n",
    "    x += 1\n",
    "\n",
    "\n",
    "# 스레드가 하는 일\n",
    "def taskofThread():\n",
    "    for _ in range(100000):\n",
    "        lock.acquire()\n",
    "        inc_glob()\n",
    "        lock.release()\n",
    "\n",
    "\n",
    "def thread_main():\n",
    "    global x\n",
    "    x = 0\n",
    "    \n",
    "    # 스레드를 생성하고 \n",
    "    # 해당 스레드는 taskofThread를 실행한다.\n",
    "    t1 = threading.Thread(target = taskofThread)\n",
    "    t2 = threading.Thread(target = taskofThread)\n",
    "    \n",
    "    t1.start()\n",
    "    t2.start()\n",
    "    \n",
    "    t1.join()\n",
    "    t2.join()\n",
    "\n",
    "\n",
    "for i in range(10):\n",
    "    thread_main()\n",
    "    print(\"x = {1} after Iteration {0}.\".format(i, x))"
   ]
  },
  {
   "cell_type": "code",
   "execution_count": null,
   "metadata": {},
   "outputs": [],
   "source": [
    "def square(n):\n",
    "    return n * n\n",
    "\n",
    "\n",
    "myList = [1, 2, 3, 4, 5]\n",
    "res = []\n",
    "\n",
    "for num in myList:\n",
    "    res.append(square(num))\n",
    "\n",
    "\n",
    "print(res)"
   ]
  },
  {
   "cell_type": "code",
   "execution_count": null,
   "metadata": {},
   "outputs": [],
   "source": [
    "import multiprocessing\n",
    "import os\n",
    "\n",
    "def square(n):\n",
    "    print(\"Worker Process id for {0}: {1}\".format(n, os.getpid()))\n",
    "    return n * n\n",
    "\n",
    "\n",
    "myList = [1, 2, 3, 4, 5]\n",
    "p = multiprocessing.Pool()\n",
    "res = p.map(square, myList)\n",
    "\n",
    "print(res)"
   ]
  },
  {
   "cell_type": "code",
   "execution_count": null,
   "metadata": {},
   "outputs": [
    {
     "name": "stdout",
     "output_type": "stream",
     "text": [
      "[0.   0.01 0.02 0.03 0.04 0.05 0.06 0.07 0.08 0.09 0.1  0.11 0.12 0.13\n",
      " 0.14 0.15 0.16 0.17 0.18 0.19 0.2  0.21 0.22 0.23 0.24 0.25 0.26 0.27\n",
      " 0.28 0.29 0.3  0.31 0.32 0.33 0.34 0.35 0.36 0.37 0.38 0.39 0.4  0.41\n",
      " 0.42 0.43 0.44 0.45 0.46 0.47 0.48 0.49 0.5  0.51 0.52 0.53 0.54 0.55\n",
      " 0.56 0.57 0.58 0.59 0.6  0.61 0.62 0.63 0.64 0.65 0.66 0.67 0.68 0.69\n",
      " 0.7  0.71 0.72 0.73 0.74 0.75 0.76 0.77 0.78 0.79 0.8  0.81 0.82 0.83\n",
      " 0.84 0.85 0.86 0.87 0.88 0.89 0.9  0.91 0.92 0.93 0.94 0.95 0.96 0.97\n",
      " 0.98 0.99 1.   1.01 1.02 1.03 1.04 1.05 1.06 1.07 1.08 1.09 1.1  1.11\n",
      " 1.12 1.13 1.14 1.15 1.16 1.17 1.18 1.19 1.2  1.21 1.22 1.23 1.24 1.25\n",
      " 1.26 1.27 1.28 1.29 1.3  1.31 1.32 1.33 1.34 1.35 1.36 1.37 1.38 1.39\n",
      " 1.4  1.41 1.42 1.43 1.44 1.45 1.46 1.47 1.48 1.49 1.5  1.51 1.52 1.53\n",
      " 1.54 1.55 1.56 1.57 1.58 1.59 1.6  1.61 1.62 1.63 1.64 1.65 1.66 1.67\n",
      " 1.68 1.69 1.7  1.71 1.72 1.73 1.74 1.75 1.76 1.77 1.78 1.79 1.8  1.81\n",
      " 1.82 1.83 1.84 1.85 1.86 1.87 1.88 1.89 1.9  1.91 1.92 1.93 1.94 1.95\n",
      " 1.96 1.97 1.98 1.99 2.   2.01 2.02 2.03 2.04 2.05 2.06 2.07 2.08 2.09\n",
      " 2.1  2.11 2.12 2.13 2.14 2.15 2.16 2.17 2.18 2.19 2.2  2.21 2.22 2.23\n",
      " 2.24 2.25 2.26 2.27 2.28 2.29 2.3  2.31 2.32 2.33 2.34 2.35 2.36 2.37\n",
      " 2.38 2.39 2.4  2.41 2.42 2.43 2.44 2.45 2.46 2.47 2.48 2.49 2.5  2.51\n",
      " 2.52 2.53 2.54 2.55 2.56 2.57 2.58 2.59 2.6  2.61 2.62 2.63 2.64 2.65\n",
      " 2.66 2.67 2.68 2.69 2.7  2.71 2.72 2.73 2.74 2.75 2.76 2.77 2.78 2.79\n",
      " 2.8  2.81 2.82 2.83 2.84 2.85 2.86 2.87 2.88 2.89 2.9  2.91 2.92 2.93\n",
      " 2.94 2.95 2.96 2.97 2.98 2.99]\n"
     ]
    }
   ],
   "source": [
    "import os\n",
    "import numpy as np\n",
    "import multiprocessing\n",
    "\n",
    "dx = 0.000001\n",
    "\n",
    "def calc(x):\n",
    "    #print(\"Process id for {0}: {1}\".format(x, os.getpid))\n",
    "    return dx * (x ** 2)\n",
    "\n",
    "\n",
    "def integralRange(start, end):\n",
    "    curX = np.arange(start, end, dx)\n",
    "    #print(curX)\n",
    "    p = multiprocessing.Pool()\n",
    "    res = p.map(calc, curX)\n",
    "    area = np.sum(res)\n",
    "    return area\n",
    "\n",
    "\n",
    "area = integralRange(0, 3)\n",
    "print(\"x^2의 0 ~ 3까지 정적분 결과 =\", area)\n",
    "\n"
   ]
  },
  {
   "cell_type": "code",
   "execution_count": 1,
   "metadata": {},
   "outputs": [],
   "source": [
    "from PIL import Image\n",
    "img = Image.open(\"test.jpg\")\n",
    "\n",
    "img.show()"
   ]
  },
  {
   "cell_type": "code",
   "execution_count": null,
   "metadata": {},
   "outputs": [],
   "source": []
  }
 ],
 "metadata": {
  "kernelspec": {
   "display_name": "Python 3",
   "language": "python",
   "name": "python3"
  },
  "language_info": {
   "codemirror_mode": {
    "name": "ipython",
    "version": 3
   },
   "file_extension": ".py",
   "mimetype": "text/x-python",
   "name": "python",
   "nbconvert_exporter": "python",
   "pygments_lexer": "ipython3",
   "version": "3.7.6"
  }
 },
 "nbformat": 4,
 "nbformat_minor": 4
}
